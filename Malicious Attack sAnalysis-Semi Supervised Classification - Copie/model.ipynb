{
 "cells": [
  {
   "cell_type": "code",
   "execution_count": 1,
   "metadata": {},
   "outputs": [],
   "source": [
    "# Essential imports \n",
    "import pandas as pd\n",
    "import numpy as np\n",
    "import matplotlib.pyplot as plt\n",
    "import seaborn as sns\n",
    "from sklearn.preprocessing import StandardScaler\n",
    "from sklearn.preprocessing import MinMaxScaler\n",
    "from sklearn.model_selection import train_test_split\n",
    "from sklearn.svm import SVC \n",
    "from sklearn.linear_model import LogisticRegression\n",
    "from sklearn.metrics import confusion_matrix\n",
    "from sklearn.metrics import classification_report\n",
    "from sklearn.metrics import accuracy_score \n",
    "from sklearn.cluster import KMeans\n",
    "import joblib\n",
    "from sklearn.model_selection import GridSearchCV\n",
    "\n",
    "\n",
    "\n",
    "%matplotlib inline "
   ]
  },
  {
   "cell_type": "code",
   "execution_count": 2,
   "metadata": {},
   "outputs": [],
   "source": [
    "# read data from 3 csv files\n",
    "df_malicious= pd.read_csv(\"data/malicious_ips.csv\")\n",
    "df_watchers = pd.read_csv(\"data/watchers.csv\")\n",
    "df_autonomous_systems = pd.read_csv('data/autonomous_systems.csv')"
   ]
  },
  {
   "attachments": {},
   "cell_type": "markdown",
   "metadata": {},
   "source": [
    "####  Malicous IPS dataset : Data Preprocessing & Cleaning"
   ]
  },
  {
   "cell_type": "code",
   "execution_count": 3,
   "metadata": {},
   "outputs": [
    {
     "data": {
      "text/plain": [
       "(15161, 3)"
      ]
     },
     "execution_count": 3,
     "metadata": {},
     "output_type": "execute_result"
    }
   ],
   "source": [
    "df_autonomous_systems.shape"
   ]
  },
  {
   "cell_type": "code",
   "execution_count": 4,
   "metadata": {},
   "outputs": [
    {
     "data": {
      "text/html": [
       "<div>\n",
       "<style scoped>\n",
       "    .dataframe tbody tr th:only-of-type {\n",
       "        vertical-align: middle;\n",
       "    }\n",
       "\n",
       "    .dataframe tbody tr th {\n",
       "        vertical-align: top;\n",
       "    }\n",
       "\n",
       "    .dataframe thead th {\n",
       "        text-align: right;\n",
       "    }\n",
       "</style>\n",
       "<table border=\"1\" class=\"dataframe\">\n",
       "  <thead>\n",
       "    <tr style=\"text-align: right;\">\n",
       "      <th></th>\n",
       "      <th>id</th>\n",
       "      <th>unique_watcher_reported</th>\n",
       "      <th>attack_type</th>\n",
       "      <th>is_validated</th>\n",
       "      <th>as_num</th>\n",
       "    </tr>\n",
       "  </thead>\n",
       "  <tbody>\n",
       "    <tr>\n",
       "      <th>0</th>\n",
       "      <td>3</td>\n",
       "      <td>{21}</td>\n",
       "      <td>Exploit</td>\n",
       "      <td>NaN</td>\n",
       "      <td>16509.0</td>\n",
       "    </tr>\n",
       "    <tr>\n",
       "      <th>1</th>\n",
       "      <td>4</td>\n",
       "      <td>{25}</td>\n",
       "      <td>Exploit</td>\n",
       "      <td>NaN</td>\n",
       "      <td>16509.0</td>\n",
       "    </tr>\n",
       "    <tr>\n",
       "      <th>2</th>\n",
       "      <td>9,\"{20354, 3587, 83714, 34181, 33423, 52497, 7...</td>\n",
       "      <td>NaN</td>\n",
       "      <td>NaN</td>\n",
       "      <td>NaN</td>\n",
       "      <td>NaN</td>\n",
       "    </tr>\n",
       "    <tr>\n",
       "      <th>3</th>\n",
       "      <td>78</td>\n",
       "      <td>{20}</td>\n",
       "      <td>Bruteforce</td>\n",
       "      <td>True</td>\n",
       "      <td>9299.0</td>\n",
       "    </tr>\n",
       "    <tr>\n",
       "      <th>4</th>\n",
       "      <td>92</td>\n",
       "      <td>{28}</td>\n",
       "      <td>Exploit</td>\n",
       "      <td>NaN</td>\n",
       "      <td>16509.0</td>\n",
       "    </tr>\n",
       "  </tbody>\n",
       "</table>\n",
       "</div>"
      ],
      "text/plain": [
       "                                                  id unique_watcher_reported  \\\n",
       "0                                                  3                    {21}   \n",
       "1                                                  4                    {25}   \n",
       "2  9,\"{20354, 3587, 83714, 34181, 33423, 52497, 7...                     NaN   \n",
       "3                                                 78                    {20}   \n",
       "4                                                 92                    {28}   \n",
       "\n",
       "  attack_type is_validated   as_num  \n",
       "0     Exploit          NaN  16509.0  \n",
       "1     Exploit          NaN  16509.0  \n",
       "2         NaN          NaN      NaN  \n",
       "3  Bruteforce         True   9299.0  \n",
       "4     Exploit          NaN  16509.0  "
      ]
     },
     "execution_count": 4,
     "metadata": {},
     "output_type": "execute_result"
    }
   ],
   "source": [
    "# Malicious Ips dataframe\n",
    "df_malicious.head()"
   ]
  },
  {
   "cell_type": "code",
   "execution_count": 5,
   "metadata": {},
   "outputs": [],
   "source": [
    "# Rename Columns\n",
    "df_malicious= df_malicious.rename(columns = { \"unique_watcher_reported\" :  \"watcher_id\" , \"is_validated\" : \"malicious\" , \"as_num\" : \"AS_num\"})"
   ]
  },
  {
   "cell_type": "code",
   "execution_count": 6,
   "metadata": {},
   "outputs": [
    {
     "name": "stdout",
     "output_type": "stream",
     "text": [
      "5210\n",
      "5210\n",
      "5211\n"
     ]
    }
   ],
   "source": [
    "# Data Cleaning \n",
    "# Check for missing Values \n",
    "\n",
    "print(df_malicious.watcher_id.isna().sum())\n",
    "print(df_malicious.attack_type.isna().sum())\n",
    "print(df_malicious.AS_num.isna().sum())\n",
    "\n",
    "\n",
    "\n",
    "# copy df_malicious to df_malicious_ips \n",
    "df_malicious_ips = df_malicious.copy()\n",
    "\n",
    "# Drop the Column 'id' from df_malicious_ips\n",
    "df_malicious_ips.drop( 'id' , inplace=True ,axis = 1)\n"
   ]
  },
  {
   "cell_type": "code",
   "execution_count": 7,
   "metadata": {},
   "outputs": [],
   "source": [
    "# create a list of elements of column id\n",
    "id_list = df_malicious.id.to_list()"
   ]
  },
  {
   "cell_type": "code",
   "execution_count": 8,
   "metadata": {},
   "outputs": [],
   "source": [
    "# find id cells that contain rows of data instead of just id\n",
    "to_csv_list =  []\n",
    "for value in id_list:\n",
    "    if len(value)>7 :\n",
    "        to_csv_list.append(value)"
   ]
  },
  {
   "cell_type": "code",
   "execution_count": 9,
   "metadata": {},
   "outputs": [],
   "source": [
    "# transform ids list to pandas series\n",
    "# create ids_list.csv from series\n",
    "\n",
    "pd.Series(to_csv_list).to_csv('ids_list.csv',index=False)"
   ]
  },
  {
   "cell_type": "code",
   "execution_count": 10,
   "metadata": {},
   "outputs": [],
   "source": [
    "# create new df containing id's list\n",
    "new_df = pd.read_csv('ids_list.csv')"
   ]
  },
  {
   "cell_type": "code",
   "execution_count": 11,
   "metadata": {},
   "outputs": [],
   "source": [
    "# name series as id to access it\n",
    "new_df.columns=['id']"
   ]
  },
  {
   "cell_type": "code",
   "execution_count": 12,
   "metadata": {},
   "outputs": [],
   "source": [
    "# split and expand values separated by \" in id column to other pandas series\n",
    "new_df = new_df.id.str.split('\"', expand = True)\n"
   ]
  },
  {
   "cell_type": "code",
   "execution_count": 13,
   "metadata": {},
   "outputs": [],
   "source": [
    "# split and expand values separated by comma\n",
    "expanded = new_df[2].str.split(',',expand=True)"
   ]
  },
  {
   "cell_type": "code",
   "execution_count": 14,
   "metadata": {},
   "outputs": [],
   "source": [
    "# concatenate new_df and expanded df\n",
    "ips = pd.concat([new_df,expanded],axis=1)"
   ]
  },
  {
   "cell_type": "code",
   "execution_count": 15,
   "metadata": {},
   "outputs": [],
   "source": [
    "# name columns of ips df\n",
    "ips.columns = ['id','watcher_id','2','0','attack_type','malicious','AS_num']"
   ]
  },
  {
   "cell_type": "code",
   "execution_count": 16,
   "metadata": {},
   "outputs": [],
   "source": [
    "# drop unnecessary empty columns from ips df\n",
    "ips = ips.drop(['2','0'],axis=1)"
   ]
  },
  {
   "cell_type": "code",
   "execution_count": 17,
   "metadata": {},
   "outputs": [],
   "source": [
    "# create a new df named malicious only contains original observations for which id is already intact\n",
    "lista=[]\n",
    "\n",
    "for i in range(len(df_malicious)):\n",
    "    if len(df_malicious.id.values[i])>7:\n",
    "        lista.append(i)\n",
    "\n",
    "\n",
    "lista\n",
    "\n",
    "df_malicious = df_malicious.drop(lista)\n",
    "\n"
   ]
  },
  {
   "cell_type": "code",
   "execution_count": 18,
   "metadata": {},
   "outputs": [],
   "source": [
    "# clean id column from comma \n",
    "\n",
    "ips['id'] = ips['id'].replace(',','',regex=True)\n"
   ]
  },
  {
   "cell_type": "code",
   "execution_count": 19,
   "metadata": {},
   "outputs": [],
   "source": [
    "# concatenate ips and df_malicious\n",
    "df_malicious_ips = pd.concat([df_malicious,ips])"
   ]
  },
  {
   "cell_type": "code",
   "execution_count": 20,
   "metadata": {},
   "outputs": [
    {
     "data": {
      "text/html": [
       "<div>\n",
       "<style scoped>\n",
       "    .dataframe tbody tr th:only-of-type {\n",
       "        vertical-align: middle;\n",
       "    }\n",
       "\n",
       "    .dataframe tbody tr th {\n",
       "        vertical-align: top;\n",
       "    }\n",
       "\n",
       "    .dataframe thead th {\n",
       "        text-align: right;\n",
       "    }\n",
       "</style>\n",
       "<table border=\"1\" class=\"dataframe\">\n",
       "  <thead>\n",
       "    <tr style=\"text-align: right;\">\n",
       "      <th></th>\n",
       "      <th>id</th>\n",
       "      <th>watcher_id</th>\n",
       "      <th>attack_type</th>\n",
       "      <th>malicious</th>\n",
       "      <th>AS_num</th>\n",
       "    </tr>\n",
       "  </thead>\n",
       "  <tbody>\n",
       "    <tr>\n",
       "      <th>0</th>\n",
       "      <td>3</td>\n",
       "      <td>{21}</td>\n",
       "      <td>Exploit</td>\n",
       "      <td>NaN</td>\n",
       "      <td>16509.0</td>\n",
       "    </tr>\n",
       "    <tr>\n",
       "      <th>1</th>\n",
       "      <td>4</td>\n",
       "      <td>{25}</td>\n",
       "      <td>Exploit</td>\n",
       "      <td>NaN</td>\n",
       "      <td>16509.0</td>\n",
       "    </tr>\n",
       "    <tr>\n",
       "      <th>3</th>\n",
       "      <td>78</td>\n",
       "      <td>{20}</td>\n",
       "      <td>Bruteforce</td>\n",
       "      <td>True</td>\n",
       "      <td>9299.0</td>\n",
       "    </tr>\n",
       "    <tr>\n",
       "      <th>4</th>\n",
       "      <td>92</td>\n",
       "      <td>{28}</td>\n",
       "      <td>Exploit</td>\n",
       "      <td>NaN</td>\n",
       "      <td>16509.0</td>\n",
       "    </tr>\n",
       "    <tr>\n",
       "      <th>5</th>\n",
       "      <td>93</td>\n",
       "      <td>{26}</td>\n",
       "      <td>Exploit</td>\n",
       "      <td>NaN</td>\n",
       "      <td>16509.0</td>\n",
       "    </tr>\n",
       "    <tr>\n",
       "      <th>...</th>\n",
       "      <td>...</td>\n",
       "      <td>...</td>\n",
       "      <td>...</td>\n",
       "      <td>...</td>\n",
       "      <td>...</td>\n",
       "    </tr>\n",
       "    <tr>\n",
       "      <th>5205</th>\n",
       "      <td>1350838</td>\n",
       "      <td>{96848, 7286}</td>\n",
       "      <td>Other</td>\n",
       "      <td></td>\n",
       "      <td>14061.0</td>\n",
       "    </tr>\n",
       "    <tr>\n",
       "      <th>5206</th>\n",
       "      <td>1350840</td>\n",
       "      <td>{100844, 7286, 84935}</td>\n",
       "      <td>Scanner</td>\n",
       "      <td></td>\n",
       "      <td>139190.0</td>\n",
       "    </tr>\n",
       "    <tr>\n",
       "      <th>5207</th>\n",
       "      <td>1350844</td>\n",
       "      <td>{7286, 47}</td>\n",
       "      <td>Other</td>\n",
       "      <td></td>\n",
       "      <td>20473.0</td>\n",
       "    </tr>\n",
       "    <tr>\n",
       "      <th>5208</th>\n",
       "      <td>1351030</td>\n",
       "      <td>{56291, 56324}</td>\n",
       "      <td>Spammer</td>\n",
       "      <td></td>\n",
       "      <td>14061.0</td>\n",
       "    </tr>\n",
       "    <tr>\n",
       "      <th>5209</th>\n",
       "      <td>1351065</td>\n",
       "      <td>{43124, 33524, 43157, 43158}</td>\n",
       "      <td>Scanner</td>\n",
       "      <td></td>\n",
       "      <td>36352.0</td>\n",
       "    </tr>\n",
       "  </tbody>\n",
       "</table>\n",
       "<p>29187 rows × 5 columns</p>\n",
       "</div>"
      ],
      "text/plain": [
       "           id                    watcher_id attack_type malicious    AS_num\n",
       "0           3                          {21}     Exploit       NaN   16509.0\n",
       "1           4                          {25}     Exploit       NaN   16509.0\n",
       "3          78                          {20}  Bruteforce      True    9299.0\n",
       "4          92                          {28}     Exploit       NaN   16509.0\n",
       "5          93                          {26}     Exploit       NaN   16509.0\n",
       "...       ...                           ...         ...       ...       ...\n",
       "5205  1350838                 {96848, 7286}       Other             14061.0\n",
       "5206  1350840         {100844, 7286, 84935}     Scanner            139190.0\n",
       "5207  1350844                    {7286, 47}       Other             20473.0\n",
       "5208  1351030                {56291, 56324}     Spammer             14061.0\n",
       "5209  1351065  {43124, 33524, 43157, 43158}     Scanner             36352.0\n",
       "\n",
       "[29187 rows x 5 columns]"
      ]
     },
     "execution_count": 20,
     "metadata": {},
     "output_type": "execute_result"
    }
   ],
   "source": [
    "# final dataframe ready\n",
    "df_malicious_ips"
   ]
  },
  {
   "cell_type": "code",
   "execution_count": 21,
   "metadata": {},
   "outputs": [
    {
     "data": {
      "text/plain": [
       "21768"
      ]
     },
     "execution_count": 21,
     "metadata": {},
     "output_type": "execute_result"
    }
   ],
   "source": [
    "# check for missing values in malicious column\n",
    "df_malicious_ips.malicious.isna().sum()"
   ]
  },
  {
   "attachments": {},
   "cell_type": "markdown",
   "metadata": {},
   "source": [
    "##### The column malicious contains 21768 missing values .\n",
    "* WE could either drop the entire column and not include it in Modeling or Drop rows where : malicious is NaN \n",
    "    * Since it's not the target variable we will drop all rows from dataframe where malicious is Nan\n",
    "* Train a Supervised classification Model with the rest of the rows ."
   ]
  },
  {
   "cell_type": "code",
   "execution_count": 22,
   "metadata": {},
   "outputs": [],
   "source": [
    "# Drop rows where \"all\" column values are missing :\n",
    "df_malicious_ips = df_malicious_ips.dropna(how = 'all')"
   ]
  },
  {
   "cell_type": "code",
   "execution_count": 23,
   "metadata": {},
   "outputs": [
    {
     "data": {
      "text/html": [
       "<div>\n",
       "<style scoped>\n",
       "    .dataframe tbody tr th:only-of-type {\n",
       "        vertical-align: middle;\n",
       "    }\n",
       "\n",
       "    .dataframe tbody tr th {\n",
       "        vertical-align: top;\n",
       "    }\n",
       "\n",
       "    .dataframe thead th {\n",
       "        text-align: right;\n",
       "    }\n",
       "</style>\n",
       "<table border=\"1\" class=\"dataframe\">\n",
       "  <thead>\n",
       "    <tr style=\"text-align: right;\">\n",
       "      <th></th>\n",
       "      <th>id</th>\n",
       "      <th>watcher_id</th>\n",
       "      <th>attack_type</th>\n",
       "      <th>malicious</th>\n",
       "      <th>AS_num</th>\n",
       "    </tr>\n",
       "  </thead>\n",
       "  <tbody>\n",
       "    <tr>\n",
       "      <th>0</th>\n",
       "      <td>3</td>\n",
       "      <td>{21}</td>\n",
       "      <td>Exploit</td>\n",
       "      <td>NaN</td>\n",
       "      <td>16509.0</td>\n",
       "    </tr>\n",
       "    <tr>\n",
       "      <th>1</th>\n",
       "      <td>4</td>\n",
       "      <td>{25}</td>\n",
       "      <td>Exploit</td>\n",
       "      <td>NaN</td>\n",
       "      <td>16509.0</td>\n",
       "    </tr>\n",
       "    <tr>\n",
       "      <th>3</th>\n",
       "      <td>78</td>\n",
       "      <td>{20}</td>\n",
       "      <td>Bruteforce</td>\n",
       "      <td>True</td>\n",
       "      <td>9299.0</td>\n",
       "    </tr>\n",
       "    <tr>\n",
       "      <th>4</th>\n",
       "      <td>92</td>\n",
       "      <td>{28}</td>\n",
       "      <td>Exploit</td>\n",
       "      <td>NaN</td>\n",
       "      <td>16509.0</td>\n",
       "    </tr>\n",
       "    <tr>\n",
       "      <th>5</th>\n",
       "      <td>93</td>\n",
       "      <td>{26}</td>\n",
       "      <td>Exploit</td>\n",
       "      <td>NaN</td>\n",
       "      <td>16509.0</td>\n",
       "    </tr>\n",
       "  </tbody>\n",
       "</table>\n",
       "</div>"
      ],
      "text/plain": [
       "   id watcher_id attack_type malicious   AS_num\n",
       "0   3       {21}     Exploit       NaN  16509.0\n",
       "1   4       {25}     Exploit       NaN  16509.0\n",
       "3  78       {20}  Bruteforce      True   9299.0\n",
       "4  92       {28}     Exploit       NaN  16509.0\n",
       "5  93       {26}     Exploit       NaN  16509.0"
      ]
     },
     "execution_count": 23,
     "metadata": {},
     "output_type": "execute_result"
    }
   ],
   "source": [
    "df_malicious_ips.head()"
   ]
  },
  {
   "cell_type": "code",
   "execution_count": 24,
   "metadata": {},
   "outputs": [
    {
     "data": {
      "text/plain": [
       "(3195, 5)"
      ]
     },
     "execution_count": 24,
     "metadata": {},
     "output_type": "execute_result"
    }
   ],
   "source": [
    "# Delete all rows in dataframe where malicious is NaN but save copy in malicious\n",
    "malicious =df_malicious_ips.copy()\n",
    "# clean malicious column\n",
    "\n",
    "df_malicious_ips['malicious'].replace('',np.nan,inplace=True)\n",
    "df_malicious_ips.dropna(inplace=True)\n",
    "df_malicious_ips.shape"
   ]
  },
  {
   "cell_type": "code",
   "execution_count": 25,
   "metadata": {},
   "outputs": [
    {
     "name": "stdout",
     "output_type": "stream",
     "text": [
      "0\n",
      "0\n",
      "0\n",
      "There are no missing values \n"
     ]
    }
   ],
   "source": [
    "# ReCheck for missing Values \n",
    "# Column : watcher_id\n",
    "print(df_malicious_ips.watcher_id.isna().sum())\n",
    "print(df_malicious_ips.attack_type.isna().sum())\n",
    "print(df_malicious_ips.AS_num.isna().sum())\n",
    "\n",
    "print('There are no missing values ')\n"
   ]
  },
  {
   "cell_type": "code",
   "execution_count": 26,
   "metadata": {},
   "outputs": [],
   "source": [
    "# convert types to appropriate ones\n",
    "\n",
    "# convert type of id to int  \n",
    "df_malicious_ips['id'] = df_malicious_ips['id'].astype(int)\n",
    "\n",
    "\n",
    "# convert AS_num to numeric float then int\n",
    "df_malicious_ips['AS_num'] = df_malicious_ips['AS_num'].astype(float).astype(int)\n"
   ]
  },
  {
   "cell_type": "code",
   "execution_count": 27,
   "metadata": {},
   "outputs": [],
   "source": [
    "# reset Index for entire df \n",
    "df_malicious_ips.reset_index(drop = True,inplace=True)\n"
   ]
  },
  {
   "cell_type": "code",
   "execution_count": 28,
   "metadata": {},
   "outputs": [
    {
     "data": {
      "text/html": [
       "<div>\n",
       "<style scoped>\n",
       "    .dataframe tbody tr th:only-of-type {\n",
       "        vertical-align: middle;\n",
       "    }\n",
       "\n",
       "    .dataframe tbody tr th {\n",
       "        vertical-align: top;\n",
       "    }\n",
       "\n",
       "    .dataframe thead th {\n",
       "        text-align: right;\n",
       "    }\n",
       "</style>\n",
       "<table border=\"1\" class=\"dataframe\">\n",
       "  <thead>\n",
       "    <tr style=\"text-align: right;\">\n",
       "      <th></th>\n",
       "      <th>id</th>\n",
       "      <th>watcher_id</th>\n",
       "      <th>attack_type</th>\n",
       "      <th>malicious</th>\n",
       "      <th>AS_num</th>\n",
       "    </tr>\n",
       "  </thead>\n",
       "  <tbody>\n",
       "    <tr>\n",
       "      <th>0</th>\n",
       "      <td>78</td>\n",
       "      <td>{20}</td>\n",
       "      <td>Bruteforce</td>\n",
       "      <td>True</td>\n",
       "      <td>9299</td>\n",
       "    </tr>\n",
       "    <tr>\n",
       "      <th>1</th>\n",
       "      <td>508</td>\n",
       "      <td>{25}</td>\n",
       "      <td>Exploit</td>\n",
       "      <td>True</td>\n",
       "      <td>174</td>\n",
       "    </tr>\n",
       "    <tr>\n",
       "      <th>2</th>\n",
       "      <td>617</td>\n",
       "      <td>{290}</td>\n",
       "      <td>Spammer</td>\n",
       "      <td>True</td>\n",
       "      <td>202425</td>\n",
       "    </tr>\n",
       "    <tr>\n",
       "      <th>3</th>\n",
       "      <td>980</td>\n",
       "      <td>{77642}</td>\n",
       "      <td>Scanner</td>\n",
       "      <td>True</td>\n",
       "      <td>208323</td>\n",
       "    </tr>\n",
       "    <tr>\n",
       "      <th>4</th>\n",
       "      <td>1146</td>\n",
       "      <td>{53}</td>\n",
       "      <td>Bruteforce</td>\n",
       "      <td>True</td>\n",
       "      <td>3269</td>\n",
       "    </tr>\n",
       "    <tr>\n",
       "      <th>...</th>\n",
       "      <td>...</td>\n",
       "      <td>...</td>\n",
       "      <td>...</td>\n",
       "      <td>...</td>\n",
       "      <td>...</td>\n",
       "    </tr>\n",
       "    <tr>\n",
       "      <th>3190</th>\n",
       "      <td>1340791</td>\n",
       "      <td>{58337, 30287, 49460, 66455, 86552, 72794, 518...</td>\n",
       "      <td>Bruteforce</td>\n",
       "      <td>True</td>\n",
       "      <td>14061</td>\n",
       "    </tr>\n",
       "    <tr>\n",
       "      <th>3191</th>\n",
       "      <td>1341647</td>\n",
       "      <td>{76289, 96386, 66818, 60548, 62726, 101006, 66...</td>\n",
       "      <td>Other</td>\n",
       "      <td>True</td>\n",
       "      <td>396982</td>\n",
       "    </tr>\n",
       "    <tr>\n",
       "      <th>3192</th>\n",
       "      <td>1344817</td>\n",
       "      <td>{95200, 94208, 93449, 94637, 61901, 47, 94769,...</td>\n",
       "      <td>Other</td>\n",
       "      <td>True</td>\n",
       "      <td>56046</td>\n",
       "    </tr>\n",
       "    <tr>\n",
       "      <th>3193</th>\n",
       "      <td>1348053</td>\n",
       "      <td>{90512, 26228, 7286, 66455, 792, 3161, 77114, ...</td>\n",
       "      <td>Scanner</td>\n",
       "      <td>True</td>\n",
       "      <td>14061</td>\n",
       "    </tr>\n",
       "    <tr>\n",
       "      <th>3194</th>\n",
       "      <td>1350212</td>\n",
       "      <td>{7286, 47}</td>\n",
       "      <td>Other</td>\n",
       "      <td>True</td>\n",
       "      <td>45102</td>\n",
       "    </tr>\n",
       "  </tbody>\n",
       "</table>\n",
       "<p>3195 rows × 5 columns</p>\n",
       "</div>"
      ],
      "text/plain": [
       "           id                                         watcher_id attack_type  \\\n",
       "0          78                                               {20}  Bruteforce   \n",
       "1         508                                               {25}     Exploit   \n",
       "2         617                                              {290}     Spammer   \n",
       "3         980                                            {77642}     Scanner   \n",
       "4        1146                                               {53}  Bruteforce   \n",
       "...       ...                                                ...         ...   \n",
       "3190  1340791  {58337, 30287, 49460, 66455, 86552, 72794, 518...  Bruteforce   \n",
       "3191  1341647  {76289, 96386, 66818, 60548, 62726, 101006, 66...       Other   \n",
       "3192  1344817  {95200, 94208, 93449, 94637, 61901, 47, 94769,...       Other   \n",
       "3193  1348053  {90512, 26228, 7286, 66455, 792, 3161, 77114, ...     Scanner   \n",
       "3194  1350212                                         {7286, 47}       Other   \n",
       "\n",
       "     malicious  AS_num  \n",
       "0         True    9299  \n",
       "1         True     174  \n",
       "2         True  202425  \n",
       "3         True  208323  \n",
       "4         True    3269  \n",
       "...        ...     ...  \n",
       "3190      True   14061  \n",
       "3191      True  396982  \n",
       "3192      True   56046  \n",
       "3193      True   14061  \n",
       "3194      True   45102  \n",
       "\n",
       "[3195 rows x 5 columns]"
      ]
     },
     "execution_count": 28,
     "metadata": {},
     "output_type": "execute_result"
    }
   ],
   "source": [
    "df_malicious_ips"
   ]
  },
  {
   "cell_type": "code",
   "execution_count": 29,
   "metadata": {},
   "outputs": [],
   "source": [
    "# Feature Transorfmation :\n",
    "# Encoding : \n",
    "# malicious column:\n",
    "\n",
    "\n",
    "\n",
    "df_malicious_ips['malicious'] = df_malicious_ips['malicious'].replace(\"True\",'1',regex=True)\n",
    "df_malicious_ips['malicious'] = df_malicious_ips['malicious'].replace(\"False\",'0',regex=True)\n",
    "#df_malicious_ips['malicious'] = np.where(df_malicious_ips[\"malicious\"]==False,0,1 )\n"
   ]
  },
  {
   "cell_type": "code",
   "execution_count": 30,
   "metadata": {},
   "outputs": [],
   "source": [
    "# encode malicious to integer values\n",
    "df_malicious_ips['malicious'] = df_malicious_ips['malicious'].astype(int)"
   ]
  },
  {
   "cell_type": "code",
   "execution_count": 31,
   "metadata": {},
   "outputs": [
    {
     "data": {
      "text/html": [
       "<div>\n",
       "<style scoped>\n",
       "    .dataframe tbody tr th:only-of-type {\n",
       "        vertical-align: middle;\n",
       "    }\n",
       "\n",
       "    .dataframe tbody tr th {\n",
       "        vertical-align: top;\n",
       "    }\n",
       "\n",
       "    .dataframe thead th {\n",
       "        text-align: right;\n",
       "    }\n",
       "</style>\n",
       "<table border=\"1\" class=\"dataframe\">\n",
       "  <thead>\n",
       "    <tr style=\"text-align: right;\">\n",
       "      <th></th>\n",
       "      <th>id</th>\n",
       "      <th>watcher_id</th>\n",
       "      <th>attack_type</th>\n",
       "      <th>malicious</th>\n",
       "      <th>AS_num</th>\n",
       "    </tr>\n",
       "  </thead>\n",
       "  <tbody>\n",
       "    <tr>\n",
       "      <th>0</th>\n",
       "      <td>78</td>\n",
       "      <td>{20}</td>\n",
       "      <td>Bruteforce</td>\n",
       "      <td>1</td>\n",
       "      <td>9299</td>\n",
       "    </tr>\n",
       "    <tr>\n",
       "      <th>1</th>\n",
       "      <td>508</td>\n",
       "      <td>{25}</td>\n",
       "      <td>Exploit</td>\n",
       "      <td>1</td>\n",
       "      <td>174</td>\n",
       "    </tr>\n",
       "    <tr>\n",
       "      <th>2</th>\n",
       "      <td>617</td>\n",
       "      <td>{290}</td>\n",
       "      <td>Spammer</td>\n",
       "      <td>1</td>\n",
       "      <td>202425</td>\n",
       "    </tr>\n",
       "    <tr>\n",
       "      <th>3</th>\n",
       "      <td>980</td>\n",
       "      <td>{77642}</td>\n",
       "      <td>Scanner</td>\n",
       "      <td>1</td>\n",
       "      <td>208323</td>\n",
       "    </tr>\n",
       "    <tr>\n",
       "      <th>4</th>\n",
       "      <td>1146</td>\n",
       "      <td>{53}</td>\n",
       "      <td>Bruteforce</td>\n",
       "      <td>1</td>\n",
       "      <td>3269</td>\n",
       "    </tr>\n",
       "    <tr>\n",
       "      <th>...</th>\n",
       "      <td>...</td>\n",
       "      <td>...</td>\n",
       "      <td>...</td>\n",
       "      <td>...</td>\n",
       "      <td>...</td>\n",
       "    </tr>\n",
       "    <tr>\n",
       "      <th>3190</th>\n",
       "      <td>1340791</td>\n",
       "      <td>{58337, 30287, 49460, 66455, 86552, 72794, 518...</td>\n",
       "      <td>Bruteforce</td>\n",
       "      <td>1</td>\n",
       "      <td>14061</td>\n",
       "    </tr>\n",
       "    <tr>\n",
       "      <th>3191</th>\n",
       "      <td>1341647</td>\n",
       "      <td>{76289, 96386, 66818, 60548, 62726, 101006, 66...</td>\n",
       "      <td>Other</td>\n",
       "      <td>1</td>\n",
       "      <td>396982</td>\n",
       "    </tr>\n",
       "    <tr>\n",
       "      <th>3192</th>\n",
       "      <td>1344817</td>\n",
       "      <td>{95200, 94208, 93449, 94637, 61901, 47, 94769,...</td>\n",
       "      <td>Other</td>\n",
       "      <td>1</td>\n",
       "      <td>56046</td>\n",
       "    </tr>\n",
       "    <tr>\n",
       "      <th>3193</th>\n",
       "      <td>1348053</td>\n",
       "      <td>{90512, 26228, 7286, 66455, 792, 3161, 77114, ...</td>\n",
       "      <td>Scanner</td>\n",
       "      <td>1</td>\n",
       "      <td>14061</td>\n",
       "    </tr>\n",
       "    <tr>\n",
       "      <th>3194</th>\n",
       "      <td>1350212</td>\n",
       "      <td>{7286, 47}</td>\n",
       "      <td>Other</td>\n",
       "      <td>1</td>\n",
       "      <td>45102</td>\n",
       "    </tr>\n",
       "  </tbody>\n",
       "</table>\n",
       "<p>3195 rows × 5 columns</p>\n",
       "</div>"
      ],
      "text/plain": [
       "           id                                         watcher_id attack_type  \\\n",
       "0          78                                               {20}  Bruteforce   \n",
       "1         508                                               {25}     Exploit   \n",
       "2         617                                              {290}     Spammer   \n",
       "3         980                                            {77642}     Scanner   \n",
       "4        1146                                               {53}  Bruteforce   \n",
       "...       ...                                                ...         ...   \n",
       "3190  1340791  {58337, 30287, 49460, 66455, 86552, 72794, 518...  Bruteforce   \n",
       "3191  1341647  {76289, 96386, 66818, 60548, 62726, 101006, 66...       Other   \n",
       "3192  1344817  {95200, 94208, 93449, 94637, 61901, 47, 94769,...       Other   \n",
       "3193  1348053  {90512, 26228, 7286, 66455, 792, 3161, 77114, ...     Scanner   \n",
       "3194  1350212                                         {7286, 47}       Other   \n",
       "\n",
       "      malicious  AS_num  \n",
       "0             1    9299  \n",
       "1             1     174  \n",
       "2             1  202425  \n",
       "3             1  208323  \n",
       "4             1    3269  \n",
       "...         ...     ...  \n",
       "3190          1   14061  \n",
       "3191          1  396982  \n",
       "3192          1   56046  \n",
       "3193          1   14061  \n",
       "3194          1   45102  \n",
       "\n",
       "[3195 rows x 5 columns]"
      ]
     },
     "execution_count": 31,
     "metadata": {},
     "output_type": "execute_result"
    }
   ],
   "source": [
    "df_malicious_ips"
   ]
  },
  {
   "cell_type": "code",
   "execution_count": 32,
   "metadata": {},
   "outputs": [
    {
     "data": {
      "text/plain": [
       "malicious\n",
       "1    2022\n",
       "0    1173\n",
       "Name: count, dtype: int64"
      ]
     },
     "execution_count": 32,
     "metadata": {},
     "output_type": "execute_result"
    }
   ],
   "source": [
    "df_malicious_ips.malicious.value_counts()"
   ]
  },
  {
   "cell_type": "code",
   "execution_count": null,
   "metadata": {},
   "outputs": [],
   "source": []
  },
  {
   "cell_type": "code",
   "execution_count": 33,
   "metadata": {},
   "outputs": [
    {
     "name": "stdout",
     "output_type": "stream",
     "text": [
      "Attack types are : ['Bruteforce', 'Exploit', 'Spammer', 'Scanner', 'Other', 'Crawler']\n"
     ]
    }
   ],
   "source": [
    "# attack type \n",
    "attack_types = list(df_malicious_ips['attack_type'].unique())\n",
    "print(\"Attack types are :\",attack_types)\n",
    "df_malicious_ips['attack_type'] = df_malicious_ips['attack_type'].replace(['Bruteforce','Exploit','Spammer','Scanner','Other','Crawler'],[0,1,2,3,4,5] )\n",
    "\n"
   ]
  },
  {
   "attachments": {},
   "cell_type": "markdown",
   "metadata": {},
   "source": [
    "####  Watchers dataset : Data Preprocessing & Cleaning\n"
   ]
  },
  {
   "cell_type": "code",
   "execution_count": 34,
   "metadata": {},
   "outputs": [
    {
     "data": {
      "text/plain": [
       "0                                                    {20}\n",
       "1                                                    {25}\n",
       "2                                                   {290}\n",
       "3                                                 {77642}\n",
       "4                                                    {53}\n",
       "                              ...                        \n",
       "3190    {58337, 30287, 49460, 66455, 86552, 72794, 518...\n",
       "3191    {76289, 96386, 66818, 60548, 62726, 101006, 66...\n",
       "3192    {95200, 94208, 93449, 94637, 61901, 47, 94769,...\n",
       "3193    {90512, 26228, 7286, 66455, 792, 3161, 77114, ...\n",
       "3194                                           {7286, 47}\n",
       "Name: watcher_id, Length: 3195, dtype: object"
      ]
     },
     "execution_count": 34,
     "metadata": {},
     "output_type": "execute_result"
    }
   ],
   "source": [
    "df_malicious_ips['watcher_id']"
   ]
  },
  {
   "cell_type": "code",
   "execution_count": 35,
   "metadata": {},
   "outputs": [
    {
     "name": "stdout",
     "output_type": "stream",
     "text": [
      "<class 'pandas.core.frame.DataFrame'>\n",
      "RangeIndex: 2121 entries, 0 to 2120\n",
      "Data columns (total 5 columns):\n",
      " #   Column            Non-Null Count  Dtype  \n",
      "---  ------            --------------  -----  \n",
      " 0   id                2121 non-null   int64  \n",
      " 1   age_in_days       2121 non-null   int64  \n",
      " 2   activity_in_days  2121 non-null   int64  \n",
      " 3   hp_overlap_rate   2121 non-null   float64\n",
      " 4   n_ips_reported    2121 non-null   int64  \n",
      "dtypes: float64(1), int64(4)\n",
      "memory usage: 83.0 KB\n"
     ]
    }
   ],
   "source": [
    "df_watchers.info()"
   ]
  },
  {
   "cell_type": "code",
   "execution_count": 36,
   "metadata": {},
   "outputs": [
    {
     "data": {
      "text/html": [
       "<div>\n",
       "<style scoped>\n",
       "    .dataframe tbody tr th:only-of-type {\n",
       "        vertical-align: middle;\n",
       "    }\n",
       "\n",
       "    .dataframe tbody tr th {\n",
       "        vertical-align: top;\n",
       "    }\n",
       "\n",
       "    .dataframe thead th {\n",
       "        text-align: right;\n",
       "    }\n",
       "</style>\n",
       "<table border=\"1\" class=\"dataframe\">\n",
       "  <thead>\n",
       "    <tr style=\"text-align: right;\">\n",
       "      <th></th>\n",
       "      <th>id</th>\n",
       "      <th>age_in_days</th>\n",
       "      <th>activity_in_days</th>\n",
       "      <th>hp_overlap_rate</th>\n",
       "      <th>n_ips_reported</th>\n",
       "    </tr>\n",
       "  </thead>\n",
       "  <tbody>\n",
       "    <tr>\n",
       "      <th>count</th>\n",
       "      <td>2121.000000</td>\n",
       "      <td>2121.000000</td>\n",
       "      <td>2121.000000</td>\n",
       "      <td>2121.000000</td>\n",
       "      <td>2121.000000</td>\n",
       "    </tr>\n",
       "    <tr>\n",
       "      <th>mean</th>\n",
       "      <td>62938.534182</td>\n",
       "      <td>94.243753</td>\n",
       "      <td>82.284771</td>\n",
       "      <td>0.221136</td>\n",
       "      <td>1010.522867</td>\n",
       "    </tr>\n",
       "    <tr>\n",
       "      <th>std</th>\n",
       "      <td>33898.638146</td>\n",
       "      <td>100.532101</td>\n",
       "      <td>88.950023</td>\n",
       "      <td>0.197697</td>\n",
       "      <td>5305.223103</td>\n",
       "    </tr>\n",
       "    <tr>\n",
       "      <th>min</th>\n",
       "      <td>15.000000</td>\n",
       "      <td>1.000000</td>\n",
       "      <td>1.000000</td>\n",
       "      <td>0.000000</td>\n",
       "      <td>0.000000</td>\n",
       "    </tr>\n",
       "    <tr>\n",
       "      <th>25%</th>\n",
       "      <td>37052.000000</td>\n",
       "      <td>25.000000</td>\n",
       "      <td>23.000000</td>\n",
       "      <td>0.070000</td>\n",
       "      <td>57.000000</td>\n",
       "    </tr>\n",
       "    <tr>\n",
       "      <th>50%</th>\n",
       "      <td>72793.000000</td>\n",
       "      <td>51.000000</td>\n",
       "      <td>44.000000</td>\n",
       "      <td>0.180000</td>\n",
       "      <td>238.000000</td>\n",
       "    </tr>\n",
       "    <tr>\n",
       "      <th>75%</th>\n",
       "      <td>94671.000000</td>\n",
       "      <td>126.000000</td>\n",
       "      <td>117.000000</td>\n",
       "      <td>0.330000</td>\n",
       "      <td>681.000000</td>\n",
       "    </tr>\n",
       "    <tr>\n",
       "      <th>max</th>\n",
       "      <td>102030.000000</td>\n",
       "      <td>407.000000</td>\n",
       "      <td>401.000000</td>\n",
       "      <td>1.000000</td>\n",
       "      <td>121623.000000</td>\n",
       "    </tr>\n",
       "  </tbody>\n",
       "</table>\n",
       "</div>"
      ],
      "text/plain": [
       "                  id  age_in_days  activity_in_days  hp_overlap_rate  \\\n",
       "count    2121.000000  2121.000000       2121.000000      2121.000000   \n",
       "mean    62938.534182    94.243753         82.284771         0.221136   \n",
       "std     33898.638146   100.532101         88.950023         0.197697   \n",
       "min        15.000000     1.000000          1.000000         0.000000   \n",
       "25%     37052.000000    25.000000         23.000000         0.070000   \n",
       "50%     72793.000000    51.000000         44.000000         0.180000   \n",
       "75%     94671.000000   126.000000        117.000000         0.330000   \n",
       "max    102030.000000   407.000000        401.000000         1.000000   \n",
       "\n",
       "       n_ips_reported  \n",
       "count     2121.000000  \n",
       "mean      1010.522867  \n",
       "std       5305.223103  \n",
       "min          0.000000  \n",
       "25%         57.000000  \n",
       "50%        238.000000  \n",
       "75%        681.000000  \n",
       "max     121623.000000  "
      ]
     },
     "execution_count": 36,
     "metadata": {},
     "output_type": "execute_result"
    }
   ],
   "source": [
    "df_watchers.describe()"
   ]
  },
  {
   "attachments": {},
   "cell_type": "markdown",
   "metadata": {},
   "source": [
    "####  Autonomous Systems dataset : Data Preprocessing & Cleaning\n"
   ]
  },
  {
   "cell_type": "code",
   "execution_count": 37,
   "metadata": {},
   "outputs": [
    {
     "data": {
      "text/html": [
       "<div>\n",
       "<style scoped>\n",
       "    .dataframe tbody tr th:only-of-type {\n",
       "        vertical-align: middle;\n",
       "    }\n",
       "\n",
       "    .dataframe tbody tr th {\n",
       "        vertical-align: top;\n",
       "    }\n",
       "\n",
       "    .dataframe thead th {\n",
       "        text-align: right;\n",
       "    }\n",
       "</style>\n",
       "<table border=\"1\" class=\"dataframe\">\n",
       "  <thead>\n",
       "    <tr style=\"text-align: right;\">\n",
       "      <th></th>\n",
       "      <th>as_num</th>\n",
       "      <th>n_ips_reported</th>\n",
       "      <th>as_name</th>\n",
       "    </tr>\n",
       "  </thead>\n",
       "  <tbody>\n",
       "    <tr>\n",
       "      <th>0</th>\n",
       "      <td>3320</td>\n",
       "      <td>55294</td>\n",
       "      <td>Deutsche Telekom AG</td>\n",
       "    </tr>\n",
       "    <tr>\n",
       "      <th>1</th>\n",
       "      <td>4134</td>\n",
       "      <td>39891</td>\n",
       "      <td>Chinanet</td>\n",
       "    </tr>\n",
       "    <tr>\n",
       "      <th>2</th>\n",
       "      <td>16509</td>\n",
       "      <td>30914</td>\n",
       "      <td>AMAZON-02</td>\n",
       "    </tr>\n",
       "    <tr>\n",
       "      <th>3</th>\n",
       "      <td>3209</td>\n",
       "      <td>23288</td>\n",
       "      <td>Vodafone GmbH</td>\n",
       "    </tr>\n",
       "    <tr>\n",
       "      <th>4</th>\n",
       "      <td>14061</td>\n",
       "      <td>19829</td>\n",
       "      <td>DIGITALOCEAN-ASN</td>\n",
       "    </tr>\n",
       "    <tr>\n",
       "      <th>5</th>\n",
       "      <td>15895</td>\n",
       "      <td>18818</td>\n",
       "      <td>Kyivstar PJSC</td>\n",
       "    </tr>\n",
       "    <tr>\n",
       "      <th>6</th>\n",
       "      <td>4837</td>\n",
       "      <td>17182</td>\n",
       "      <td>CHINA UNICOM China169 Backbone</td>\n",
       "    </tr>\n",
       "    <tr>\n",
       "      <th>7</th>\n",
       "      <td>3462</td>\n",
       "      <td>13885</td>\n",
       "      <td>Data Communication Business Group</td>\n",
       "    </tr>\n",
       "    <tr>\n",
       "      <th>8</th>\n",
       "      <td>14618</td>\n",
       "      <td>10450</td>\n",
       "      <td>AMAZON-AES</td>\n",
       "    </tr>\n",
       "    <tr>\n",
       "      <th>9</th>\n",
       "      <td>6805</td>\n",
       "      <td>9536</td>\n",
       "      <td>Telefonica Germany</td>\n",
       "    </tr>\n",
       "  </tbody>\n",
       "</table>\n",
       "</div>"
      ],
      "text/plain": [
       "   as_num  n_ips_reported                            as_name\n",
       "0    3320           55294                Deutsche Telekom AG\n",
       "1    4134           39891                           Chinanet\n",
       "2   16509           30914                          AMAZON-02\n",
       "3    3209           23288                      Vodafone GmbH\n",
       "4   14061           19829                   DIGITALOCEAN-ASN\n",
       "5   15895           18818                      Kyivstar PJSC\n",
       "6    4837           17182     CHINA UNICOM China169 Backbone\n",
       "7    3462           13885  Data Communication Business Group\n",
       "8   14618           10450                         AMAZON-AES\n",
       "9    6805            9536                 Telefonica Germany"
      ]
     },
     "execution_count": 37,
     "metadata": {},
     "output_type": "execute_result"
    }
   ],
   "source": [
    "df_autonomous_systems.head(10)"
   ]
  },
  {
   "cell_type": "code",
   "execution_count": 38,
   "metadata": {},
   "outputs": [
    {
     "data": {
      "text/plain": [
       "(15161, 3)"
      ]
     },
     "execution_count": 38,
     "metadata": {},
     "output_type": "execute_result"
    }
   ],
   "source": [
    "df_autonomous_systems.shape"
   ]
  },
  {
   "cell_type": "code",
   "execution_count": 39,
   "metadata": {},
   "outputs": [],
   "source": [
    "# convert AS_num & watcher_id to numeric\n",
    "df_autonomous_systems['n_ips_reported'] = df_autonomous_systems['n_ips_reported'].astype(int)\n",
    "# convert as name to string type\n",
    "df_autonomous_systems['as_name'] = df_autonomous_systems['as_name'].astype(str)"
   ]
  },
  {
   "attachments": {},
   "cell_type": "markdown",
   "metadata": {},
   "source": [
    "#### EDA Questions "
   ]
  },
  {
   "attachments": {},
   "cell_type": "markdown",
   "metadata": {},
   "source": [
    "Number of IPs reported by type of attack"
   ]
  },
  {
   "cell_type": "code",
   "execution_count": 40,
   "metadata": {},
   "outputs": [
    {
     "data": {
      "text/plain": [
       "([<matplotlib.axis.XTick at 0x1faa3d19210>,\n",
       "  <matplotlib.axis.XTick at 0x1faa3d191e0>,\n",
       "  <matplotlib.axis.XTick at 0x1faa3d18a60>,\n",
       "  <matplotlib.axis.XTick at 0x1faa3d627d0>,\n",
       "  <matplotlib.axis.XTick at 0x1faa3d62fb0>,\n",
       "  <matplotlib.axis.XTick at 0x1faa3d63a60>],\n",
       " [Text(0, 0, 'Bruteforce'),\n",
       "  Text(1, 0, 'Exploit'),\n",
       "  Text(2, 0, 'Spammer'),\n",
       "  Text(3, 0, 'Scanner'),\n",
       "  Text(4, 0, 'Other'),\n",
       "  Text(5, 0, 'Crawler')])"
      ]
     },
     "execution_count": 40,
     "metadata": {},
     "output_type": "execute_result"
    },
    {
     "data": {
      "image/png": "[encoded data removed]",
      "text/plain": [
       "<Figure size 640x480 with 1 Axes>"
      ]
     },
     "metadata": {},
     "output_type": "display_data"
    }
   ],
   "source": [
    "# Visualize Data\n",
    "# attack types \n",
    "plt.hist(df_malicious_ips['attack_type'] )\n",
    "plt.title(\"number of ips reported per type of attack\")\n",
    "plt.xlabel(\"Attack types\")\n",
    "plt.ylabel(\"Number of reported ips\")\n",
    "plt.xticks([0,1,2,3,4,5],attack_types)"
   ]
  },
  {
   "attachments": {},
   "cell_type": "markdown",
   "metadata": {},
   "source": [
    "Names of top 10 AS hostings in malicious ips number\n",
    "\n"
   ]
  },
  {
   "cell_type": "code",
   "execution_count": 41,
   "metadata": {},
   "outputs": [],
   "source": [
    "# find AS numbers for which attacks are malicious\n",
    "AS_num_malicious = df_malicious_ips.loc[df_malicious_ips['malicious'] == 1,'AS_num']\n",
    "\n",
    "# create a dictionary for hwich keys are AS_num and values are Counts of AS_num\n",
    "out = AS_num_malicious.value_counts().to_dict()\n",
    "out\n",
    "top_10_AS = sorted(out, key=out.get, reverse=True)[:10]\n"
   ]
  },
  {
   "cell_type": "code",
   "execution_count": 42,
   "metadata": {},
   "outputs": [
    {
     "data": {
      "text/plain": [
       "[53667, 14061, 208294, 208843, 62744, 4134, 16276, 24940, 8075, 45090]"
      ]
     },
     "execution_count": 42,
     "metadata": {},
     "output_type": "execute_result"
    }
   ],
   "source": [
    "top_10_AS"
   ]
  },
  {
   "cell_type": "code",
   "execution_count": 43,
   "metadata": {},
   "outputs": [
    {
     "data": {
      "text/html": [
       "<div>\n",
       "<style scoped>\n",
       "    .dataframe tbody tr th:only-of-type {\n",
       "        vertical-align: middle;\n",
       "    }\n",
       "\n",
       "    .dataframe tbody tr th {\n",
       "        vertical-align: top;\n",
       "    }\n",
       "\n",
       "    .dataframe thead th {\n",
       "        text-align: right;\n",
       "    }\n",
       "</style>\n",
       "<table border=\"1\" class=\"dataframe\">\n",
       "  <thead>\n",
       "    <tr style=\"text-align: right;\">\n",
       "      <th></th>\n",
       "      <th>as_num</th>\n",
       "      <th>n_ips_reported</th>\n",
       "      <th>as_name</th>\n",
       "    </tr>\n",
       "  </thead>\n",
       "  <tbody>\n",
       "    <tr>\n",
       "      <th>0</th>\n",
       "      <td>3320</td>\n",
       "      <td>55294</td>\n",
       "      <td>Deutsche Telekom AG</td>\n",
       "    </tr>\n",
       "    <tr>\n",
       "      <th>1</th>\n",
       "      <td>4134</td>\n",
       "      <td>39891</td>\n",
       "      <td>Chinanet</td>\n",
       "    </tr>\n",
       "    <tr>\n",
       "      <th>2</th>\n",
       "      <td>16509</td>\n",
       "      <td>30914</td>\n",
       "      <td>AMAZON-02</td>\n",
       "    </tr>\n",
       "    <tr>\n",
       "      <th>3</th>\n",
       "      <td>3209</td>\n",
       "      <td>23288</td>\n",
       "      <td>Vodafone GmbH</td>\n",
       "    </tr>\n",
       "    <tr>\n",
       "      <th>4</th>\n",
       "      <td>14061</td>\n",
       "      <td>19829</td>\n",
       "      <td>DIGITALOCEAN-ASN</td>\n",
       "    </tr>\n",
       "    <tr>\n",
       "      <th>...</th>\n",
       "      <td>...</td>\n",
       "      <td>...</td>\n",
       "      <td>...</td>\n",
       "    </tr>\n",
       "    <tr>\n",
       "      <th>15156</th>\n",
       "      <td>399439</td>\n",
       "      <td>1</td>\n",
       "      <td>ATV-PUBLIC</td>\n",
       "    </tr>\n",
       "    <tr>\n",
       "      <th>15157</th>\n",
       "      <td>399521</td>\n",
       "      <td>1</td>\n",
       "      <td>BNS-AMERICA</td>\n",
       "    </tr>\n",
       "    <tr>\n",
       "      <th>15158</th>\n",
       "      <td>399567</td>\n",
       "      <td>1</td>\n",
       "      <td>HOMETIME-ASN1</td>\n",
       "    </tr>\n",
       "    <tr>\n",
       "      <th>15159</th>\n",
       "      <td>399686</td>\n",
       "      <td>1</td>\n",
       "      <td>SEMIBAND</td>\n",
       "    </tr>\n",
       "    <tr>\n",
       "      <th>15160</th>\n",
       "      <td>399809</td>\n",
       "      <td>1</td>\n",
       "      <td>LAER-AS-FRA1</td>\n",
       "    </tr>\n",
       "  </tbody>\n",
       "</table>\n",
       "<p>15161 rows × 3 columns</p>\n",
       "</div>"
      ],
      "text/plain": [
       "       as_num  n_ips_reported              as_name\n",
       "0        3320           55294  Deutsche Telekom AG\n",
       "1        4134           39891             Chinanet\n",
       "2       16509           30914            AMAZON-02\n",
       "3        3209           23288        Vodafone GmbH\n",
       "4       14061           19829     DIGITALOCEAN-ASN\n",
       "...       ...             ...                  ...\n",
       "15156  399439               1           ATV-PUBLIC\n",
       "15157  399521               1          BNS-AMERICA\n",
       "15158  399567               1        HOMETIME-ASN1\n",
       "15159  399686               1             SEMIBAND\n",
       "15160  399809               1         LAER-AS-FRA1\n",
       "\n",
       "[15161 rows x 3 columns]"
      ]
     },
     "execution_count": 43,
     "metadata": {},
     "output_type": "execute_result"
    }
   ],
   "source": [
    "df_autonomous_systems"
   ]
  },
  {
   "cell_type": "code",
   "execution_count": 44,
   "metadata": {},
   "outputs": [
    {
     "name": "stdout",
     "output_type": "stream",
     "text": [
      "['PONYNET']\n",
      "['DIGITALOCEAN-ASN']\n",
      "['Cia Triad Security LLC']\n",
      "['Alpha Strike Labs GmbH']\n",
      "['QUINTEX']\n",
      "['Chinanet']\n",
      "['OVH SAS']\n",
      "['Hetzner Online GmbH']\n",
      "['MICROSOFT-CORP-MSN-AS-BLOCK']\n",
      "['Shenzhen Tencent Computer Systems Company Limited']\n"
     ]
    }
   ],
   "source": [
    "# Get names from AS dataframe \n",
    "\n",
    "for e in top_10_AS:\n",
    "   print(df_autonomous_systems.loc[df_autonomous_systems['as_num'] == e,'as_name'].values)"
   ]
  },
  {
   "attachments": {},
   "cell_type": "markdown",
   "metadata": {},
   "source": [
    "Top 10 AS for ips that perform highest number of attacks"
   ]
  },
  {
   "cell_type": "code",
   "execution_count": 45,
   "metadata": {},
   "outputs": [
    {
     "name": "stdout",
     "output_type": "stream",
     "text": [
      "AS number number of attacks \n",
      " {13335: 922, 8075: 248, 53667: 247, 14061: 124, 208294: 124, 208843: 75, 62744: 61, 4134: 52, 16276: 45, 24940: 37}\n"
     ]
    }
   ],
   "source": [
    "top_10_AS_dict = df_malicious_ips.AS_num.value_counts()[:10].to_dict()\n",
    "print('AS number','number of attacks','\\n',top_10_AS_dict)"
   ]
  },
  {
   "cell_type": "code",
   "execution_count": 46,
   "metadata": {},
   "outputs": [
    {
     "name": "stdout",
     "output_type": "stream",
     "text": [
      "['CLOUDFLARENET']\n",
      "['MICROSOFT-CORP-MSN-AS-BLOCK']\n",
      "['PONYNET']\n",
      "['DIGITALOCEAN-ASN']\n",
      "['Cia Triad Security LLC']\n",
      "['Alpha Strike Labs GmbH']\n",
      "['QUINTEX']\n",
      "['Chinanet']\n",
      "['OVH SAS']\n",
      "['Hetzner Online GmbH']\n"
     ]
    }
   ],
   "source": [
    "# Get names from AS dataframe \n",
    "\n",
    "for e in top_10_AS_dict:\n",
    "   print(df_autonomous_systems.loc[df_autonomous_systems['as_num'] == e,'as_name'].values)"
   ]
  },
  {
   "attachments": {},
   "cell_type": "markdown",
   "metadata": {},
   "source": [
    "10 watcher IDs which suffered from the highest number of attacks"
   ]
  },
  {
   "cell_type": "code",
   "execution_count": 47,
   "metadata": {},
   "outputs": [
    {
     "name": "stdout",
     "output_type": "stream",
     "text": [
      "watcher id  number of attacks \n",
      " watcher_id\n",
      "{77642}           666\n",
      "{92263}           220\n",
      "{66521}           116\n",
      "{63716}           111\n",
      "{87509}           103\n",
      "{49526}            92\n",
      "{68897, 77642}     78\n",
      "{3889}             64\n",
      "{100313}           58\n",
      "Name: count, dtype: int64\n"
     ]
    }
   ],
   "source": [
    "print('watcher id ','number of attacks','\\n',df_malicious_ips.watcher_id.value_counts()[:9])"
   ]
  },
  {
   "attachments": {},
   "cell_type": "markdown",
   "metadata": {},
   "source": [
    "Comparaison :\n"
   ]
  },
  {
   "attachments": {},
   "cell_type": "markdown",
   "metadata": {},
   "source": [
    "#### Summary Statistics : "
   ]
  },
  {
   "cell_type": "code",
   "execution_count": 48,
   "metadata": {},
   "outputs": [
    {
     "data": {
      "text/html": [
       "<div>\n",
       "<style scoped>\n",
       "    .dataframe tbody tr th:only-of-type {\n",
       "        vertical-align: middle;\n",
       "    }\n",
       "\n",
       "    .dataframe tbody tr th {\n",
       "        vertical-align: top;\n",
       "    }\n",
       "\n",
       "    .dataframe thead th {\n",
       "        text-align: right;\n",
       "    }\n",
       "</style>\n",
       "<table border=\"1\" class=\"dataframe\">\n",
       "  <thead>\n",
       "    <tr style=\"text-align: right;\">\n",
       "      <th></th>\n",
       "      <th>id</th>\n",
       "      <th>attack_type</th>\n",
       "      <th>malicious</th>\n",
       "      <th>AS_num</th>\n",
       "    </tr>\n",
       "  </thead>\n",
       "  <tbody>\n",
       "    <tr>\n",
       "      <th>count</th>\n",
       "      <td>3.195000e+03</td>\n",
       "      <td>3195.000000</td>\n",
       "      <td>3195.000000</td>\n",
       "      <td>3195.000000</td>\n",
       "    </tr>\n",
       "    <tr>\n",
       "      <th>mean</th>\n",
       "      <td>6.915481e+05</td>\n",
       "      <td>2.593740</td>\n",
       "      <td>0.632864</td>\n",
       "      <td>55513.181847</td>\n",
       "    </tr>\n",
       "    <tr>\n",
       "      <th>std</th>\n",
       "      <td>4.560377e+05</td>\n",
       "      <td>1.389498</td>\n",
       "      <td>0.482100</td>\n",
       "      <td>82086.005960</td>\n",
       "    </tr>\n",
       "    <tr>\n",
       "      <th>min</th>\n",
       "      <td>9.000000e+00</td>\n",
       "      <td>0.000000</td>\n",
       "      <td>0.000000</td>\n",
       "      <td>0.000000</td>\n",
       "    </tr>\n",
       "    <tr>\n",
       "      <th>25%</th>\n",
       "      <td>2.586740e+05</td>\n",
       "      <td>3.000000</td>\n",
       "      <td>0.000000</td>\n",
       "      <td>13335.000000</td>\n",
       "    </tr>\n",
       "    <tr>\n",
       "      <th>50%</th>\n",
       "      <td>7.023460e+05</td>\n",
       "      <td>3.000000</td>\n",
       "      <td>1.000000</td>\n",
       "      <td>13999.000000</td>\n",
       "    </tr>\n",
       "    <tr>\n",
       "      <th>75%</th>\n",
       "      <td>1.130413e+06</td>\n",
       "      <td>3.000000</td>\n",
       "      <td>1.000000</td>\n",
       "      <td>53667.000000</td>\n",
       "    </tr>\n",
       "    <tr>\n",
       "      <th>max</th>\n",
       "      <td>1.351133e+06</td>\n",
       "      <td>5.000000</td>\n",
       "      <td>1.000000</td>\n",
       "      <td>399584.000000</td>\n",
       "    </tr>\n",
       "  </tbody>\n",
       "</table>\n",
       "</div>"
      ],
      "text/plain": [
       "                 id  attack_type    malicious         AS_num\n",
       "count  3.195000e+03  3195.000000  3195.000000    3195.000000\n",
       "mean   6.915481e+05     2.593740     0.632864   55513.181847\n",
       "std    4.560377e+05     1.389498     0.482100   82086.005960\n",
       "min    9.000000e+00     0.000000     0.000000       0.000000\n",
       "25%    2.586740e+05     3.000000     0.000000   13335.000000\n",
       "50%    7.023460e+05     3.000000     1.000000   13999.000000\n",
       "75%    1.130413e+06     3.000000     1.000000   53667.000000\n",
       "max    1.351133e+06     5.000000     1.000000  399584.000000"
      ]
     },
     "execution_count": 48,
     "metadata": {},
     "output_type": "execute_result"
    }
   ],
   "source": [
    "# malicious ips dataset \n",
    "df_malicious_ips.describe()\n"
   ]
  },
  {
   "cell_type": "code",
   "execution_count": 49,
   "metadata": {},
   "outputs": [
    {
     "data": {
      "text/html": [
       "<div>\n",
       "<style scoped>\n",
       "    .dataframe tbody tr th:only-of-type {\n",
       "        vertical-align: middle;\n",
       "    }\n",
       "\n",
       "    .dataframe tbody tr th {\n",
       "        vertical-align: top;\n",
       "    }\n",
       "\n",
       "    .dataframe thead th {\n",
       "        text-align: right;\n",
       "    }\n",
       "</style>\n",
       "<table border=\"1\" class=\"dataframe\">\n",
       "  <thead>\n",
       "    <tr style=\"text-align: right;\">\n",
       "      <th></th>\n",
       "      <th>as_num</th>\n",
       "      <th>n_ips_reported</th>\n",
       "    </tr>\n",
       "  </thead>\n",
       "  <tbody>\n",
       "    <tr>\n",
       "      <th>count</th>\n",
       "      <td>15161.000000</td>\n",
       "      <td>15161.000000</td>\n",
       "    </tr>\n",
       "    <tr>\n",
       "      <th>mean</th>\n",
       "      <td>111890.455643</td>\n",
       "      <td>43.686828</td>\n",
       "    </tr>\n",
       "    <tr>\n",
       "      <th>std</th>\n",
       "      <td>100260.663371</td>\n",
       "      <td>742.488577</td>\n",
       "    </tr>\n",
       "    <tr>\n",
       "      <th>min</th>\n",
       "      <td>2.000000</td>\n",
       "      <td>1.000000</td>\n",
       "    </tr>\n",
       "    <tr>\n",
       "      <th>25%</th>\n",
       "      <td>33067.000000</td>\n",
       "      <td>1.000000</td>\n",
       "    </tr>\n",
       "    <tr>\n",
       "      <th>50%</th>\n",
       "      <td>56384.000000</td>\n",
       "      <td>2.000000</td>\n",
       "    </tr>\n",
       "    <tr>\n",
       "      <th>75%</th>\n",
       "      <td>202545.000000</td>\n",
       "      <td>6.000000</td>\n",
       "    </tr>\n",
       "    <tr>\n",
       "      <th>max</th>\n",
       "      <td>399809.000000</td>\n",
       "      <td>55294.000000</td>\n",
       "    </tr>\n",
       "  </tbody>\n",
       "</table>\n",
       "</div>"
      ],
      "text/plain": [
       "              as_num  n_ips_reported\n",
       "count   15161.000000    15161.000000\n",
       "mean   111890.455643       43.686828\n",
       "std    100260.663371      742.488577\n",
       "min         2.000000        1.000000\n",
       "25%     33067.000000        1.000000\n",
       "50%     56384.000000        2.000000\n",
       "75%    202545.000000        6.000000\n",
       "max    399809.000000    55294.000000"
      ]
     },
     "execution_count": 49,
     "metadata": {},
     "output_type": "execute_result"
    }
   ],
   "source": [
    "df_autonomous_systems.describe()"
   ]
  },
  {
   "cell_type": "code",
   "execution_count": 50,
   "metadata": {},
   "outputs": [
    {
     "data": {
      "text/html": [
       "<div>\n",
       "<style scoped>\n",
       "    .dataframe tbody tr th:only-of-type {\n",
       "        vertical-align: middle;\n",
       "    }\n",
       "\n",
       "    .dataframe tbody tr th {\n",
       "        vertical-align: top;\n",
       "    }\n",
       "\n",
       "    .dataframe thead th {\n",
       "        text-align: right;\n",
       "    }\n",
       "</style>\n",
       "<table border=\"1\" class=\"dataframe\">\n",
       "  <thead>\n",
       "    <tr style=\"text-align: right;\">\n",
       "      <th></th>\n",
       "      <th>as_num</th>\n",
       "      <th>n_ips_reported</th>\n",
       "      <th>as_name</th>\n",
       "    </tr>\n",
       "  </thead>\n",
       "  <tbody>\n",
       "    <tr>\n",
       "      <th>0</th>\n",
       "      <td>3320</td>\n",
       "      <td>55294</td>\n",
       "      <td>Deutsche Telekom AG</td>\n",
       "    </tr>\n",
       "    <tr>\n",
       "      <th>1</th>\n",
       "      <td>4134</td>\n",
       "      <td>39891</td>\n",
       "      <td>Chinanet</td>\n",
       "    </tr>\n",
       "    <tr>\n",
       "      <th>2</th>\n",
       "      <td>16509</td>\n",
       "      <td>30914</td>\n",
       "      <td>AMAZON-02</td>\n",
       "    </tr>\n",
       "    <tr>\n",
       "      <th>3</th>\n",
       "      <td>3209</td>\n",
       "      <td>23288</td>\n",
       "      <td>Vodafone GmbH</td>\n",
       "    </tr>\n",
       "    <tr>\n",
       "      <th>4</th>\n",
       "      <td>14061</td>\n",
       "      <td>19829</td>\n",
       "      <td>DIGITALOCEAN-ASN</td>\n",
       "    </tr>\n",
       "    <tr>\n",
       "      <th>...</th>\n",
       "      <td>...</td>\n",
       "      <td>...</td>\n",
       "      <td>...</td>\n",
       "    </tr>\n",
       "    <tr>\n",
       "      <th>15156</th>\n",
       "      <td>399439</td>\n",
       "      <td>1</td>\n",
       "      <td>ATV-PUBLIC</td>\n",
       "    </tr>\n",
       "    <tr>\n",
       "      <th>15157</th>\n",
       "      <td>399521</td>\n",
       "      <td>1</td>\n",
       "      <td>BNS-AMERICA</td>\n",
       "    </tr>\n",
       "    <tr>\n",
       "      <th>15158</th>\n",
       "      <td>399567</td>\n",
       "      <td>1</td>\n",
       "      <td>HOMETIME-ASN1</td>\n",
       "    </tr>\n",
       "    <tr>\n",
       "      <th>15159</th>\n",
       "      <td>399686</td>\n",
       "      <td>1</td>\n",
       "      <td>SEMIBAND</td>\n",
       "    </tr>\n",
       "    <tr>\n",
       "      <th>15160</th>\n",
       "      <td>399809</td>\n",
       "      <td>1</td>\n",
       "      <td>LAER-AS-FRA1</td>\n",
       "    </tr>\n",
       "  </tbody>\n",
       "</table>\n",
       "<p>15161 rows × 3 columns</p>\n",
       "</div>"
      ],
      "text/plain": [
       "       as_num  n_ips_reported              as_name\n",
       "0        3320           55294  Deutsche Telekom AG\n",
       "1        4134           39891             Chinanet\n",
       "2       16509           30914            AMAZON-02\n",
       "3        3209           23288        Vodafone GmbH\n",
       "4       14061           19829     DIGITALOCEAN-ASN\n",
       "...       ...             ...                  ...\n",
       "15156  399439               1           ATV-PUBLIC\n",
       "15157  399521               1          BNS-AMERICA\n",
       "15158  399567               1        HOMETIME-ASN1\n",
       "15159  399686               1             SEMIBAND\n",
       "15160  399809               1         LAER-AS-FRA1\n",
       "\n",
       "[15161 rows x 3 columns]"
      ]
     },
     "execution_count": 50,
     "metadata": {},
     "output_type": "execute_result"
    }
   ],
   "source": [
    "df_autonomous_systems"
   ]
  },
  {
   "attachments": {},
   "cell_type": "markdown",
   "metadata": {},
   "source": [
    "#### Model 1 :  Classification of Types of Attacks \n",
    "#### Correlation Analysis : "
   ]
  },
  {
   "cell_type": "code",
   "execution_count": null,
   "metadata": {},
   "outputs": [],
   "source": [
    "\n",
    "# attack_type & malicious\n",
    "# attack_type & watcher_id\n",
    "# attack type & AS_num\n",
    "\n",
    "print(df_malicious_ips.corr())"
   ]
  },
  {
   "attachments": {},
   "cell_type": "markdown",
   "metadata": {},
   "source": [
    "#### Correlation heatmap "
   ]
  },
  {
   "cell_type": "code",
   "execution_count": null,
   "metadata": {},
   "outputs": [
    {
     "data": {
      "text/plain": [
       "<AxesSubplot: >"
      ]
     },
     "execution_count": 137,
     "metadata": {},
     "output_type": "execute_result"
    },
    {
     "data": {
      "image/png": "[encoded data removed]",
      "text/plain": [
       "<Figure size 640x480 with 2 Axes>"
      ]
     },
     "metadata": {},
     "output_type": "display_data"
    }
   ],
   "source": [
    "# heatmap\n",
    "\n",
    "sns.heatmap(df_malicious_ips[['id','attack_type','malicious','AS_num']].corr())\n"
   ]
  },
  {
   "attachments": {},
   "cell_type": "markdown",
   "metadata": {},
   "source": [
    "#### Data Preparation"
   ]
  },
  {
   "cell_type": "code",
   "execution_count": null,
   "metadata": {},
   "outputs": [
    {
     "data": {
      "text/html": [
       "<div>\n",
       "<style scoped>\n",
       "    .dataframe tbody tr th:only-of-type {\n",
       "        vertical-align: middle;\n",
       "    }\n",
       "\n",
       "    .dataframe tbody tr th {\n",
       "        vertical-align: top;\n",
       "    }\n",
       "\n",
       "    .dataframe thead th {\n",
       "        text-align: right;\n",
       "    }\n",
       "</style>\n",
       "<table border=\"1\" class=\"dataframe\">\n",
       "  <thead>\n",
       "    <tr style=\"text-align: right;\">\n",
       "      <th></th>\n",
       "      <th>id</th>\n",
       "      <th>malicious</th>\n",
       "      <th>AS_num</th>\n",
       "    </tr>\n",
       "  </thead>\n",
       "  <tbody>\n",
       "    <tr>\n",
       "      <th>0</th>\n",
       "      <td>78</td>\n",
       "      <td>1</td>\n",
       "      <td>9299</td>\n",
       "    </tr>\n",
       "    <tr>\n",
       "      <th>1</th>\n",
       "      <td>508</td>\n",
       "      <td>1</td>\n",
       "      <td>174</td>\n",
       "    </tr>\n",
       "    <tr>\n",
       "      <th>2</th>\n",
       "      <td>617</td>\n",
       "      <td>1</td>\n",
       "      <td>202425</td>\n",
       "    </tr>\n",
       "    <tr>\n",
       "      <th>3</th>\n",
       "      <td>980</td>\n",
       "      <td>1</td>\n",
       "      <td>208323</td>\n",
       "    </tr>\n",
       "    <tr>\n",
       "      <th>4</th>\n",
       "      <td>1146</td>\n",
       "      <td>1</td>\n",
       "      <td>3269</td>\n",
       "    </tr>\n",
       "    <tr>\n",
       "      <th>...</th>\n",
       "      <td>...</td>\n",
       "      <td>...</td>\n",
       "      <td>...</td>\n",
       "    </tr>\n",
       "    <tr>\n",
       "      <th>3190</th>\n",
       "      <td>1340791</td>\n",
       "      <td>1</td>\n",
       "      <td>14061</td>\n",
       "    </tr>\n",
       "    <tr>\n",
       "      <th>3191</th>\n",
       "      <td>1341647</td>\n",
       "      <td>1</td>\n",
       "      <td>396982</td>\n",
       "    </tr>\n",
       "    <tr>\n",
       "      <th>3192</th>\n",
       "      <td>1344817</td>\n",
       "      <td>1</td>\n",
       "      <td>56046</td>\n",
       "    </tr>\n",
       "    <tr>\n",
       "      <th>3193</th>\n",
       "      <td>1348053</td>\n",
       "      <td>1</td>\n",
       "      <td>14061</td>\n",
       "    </tr>\n",
       "    <tr>\n",
       "      <th>3194</th>\n",
       "      <td>1350212</td>\n",
       "      <td>1</td>\n",
       "      <td>45102</td>\n",
       "    </tr>\n",
       "  </tbody>\n",
       "</table>\n",
       "<p>3195 rows × 3 columns</p>\n",
       "</div>"
      ],
      "text/plain": [
       "           id  malicious  AS_num\n",
       "0          78          1    9299\n",
       "1         508          1     174\n",
       "2         617          1  202425\n",
       "3         980          1  208323\n",
       "4        1146          1    3269\n",
       "...       ...        ...     ...\n",
       "3190  1340791          1   14061\n",
       "3191  1341647          1  396982\n",
       "3192  1344817          1   56046\n",
       "3193  1348053          1   14061\n",
       "3194  1350212          1   45102\n",
       "\n",
       "[3195 rows x 3 columns]"
      ]
     },
     "execution_count": 138,
     "metadata": {},
     "output_type": "execute_result"
    }
   ],
   "source": [
    "df_malicious_ips[['id','malicious','AS_num']]"
   ]
  },
  {
   "cell_type": "code",
   "execution_count": null,
   "metadata": {},
   "outputs": [],
   "source": [
    "# Data Preparation\n",
    "\n",
    "# Convert data to numpy array\n",
    "X = df_malicious_ips[['id','malicious','AS_num']].to_numpy()\n",
    "y = np.array(df_malicious_ips['attack_type'])\n",
    "\n",
    "# Train Test Split \n",
    "\n",
    "X_train, X_test, y_train, y_test = train_test_split(X, y, test_size=0.20, random_state=42)\n",
    "\n",
    "\n",
    "\n",
    "\n",
    "# Feature Scaling\n",
    "scaler = MinMaxScaler()  \n",
    "\n",
    "X_train = scaler.fit_transform(X_train)\n",
    "X_test = scaler.transform(X_test)\n",
    "\n",
    "\n",
    "\n"
   ]
  },
  {
   "cell_type": "code",
   "execution_count": null,
   "metadata": {},
   "outputs": [
    {
     "data": {
      "text/plain": [
       "(2556, 3)"
      ]
     },
     "execution_count": 140,
     "metadata": {},
     "output_type": "execute_result"
    }
   ],
   "source": [
    "X_train.shape"
   ]
  },
  {
   "cell_type": "code",
   "execution_count": null,
   "metadata": {},
   "outputs": [
    {
     "data": {
      "text/plain": [
       "(639, 3)"
      ]
     },
     "execution_count": 141,
     "metadata": {},
     "output_type": "execute_result"
    }
   ],
   "source": [
    "X_test.shape"
   ]
  },
  {
   "cell_type": "code",
   "execution_count": null,
   "metadata": {},
   "outputs": [
    {
     "data": {
      "text/plain": [
       "(2556,)"
      ]
     },
     "execution_count": 142,
     "metadata": {},
     "output_type": "execute_result"
    }
   ],
   "source": [
    "y_train.shape"
   ]
  },
  {
   "cell_type": "code",
   "execution_count": null,
   "metadata": {},
   "outputs": [
    {
     "data": {
      "text/plain": [
       "(639,)"
      ]
     },
     "execution_count": 143,
     "metadata": {},
     "output_type": "execute_result"
    }
   ],
   "source": [
    "y_test.shape"
   ]
  },
  {
   "attachments": {},
   "cell_type": "markdown",
   "metadata": {},
   "source": [
    "# Initial Training : Manual Model"
   ]
  },
  {
   "cell_type": "code",
   "execution_count": null,
   "metadata": {},
   "outputs": [
    {
     "data": {
      "text/plain": [
       "array([3, 3, 3, 3, 3, 0, 3, 3, 5, 3, 3, 3, 3, 0, 3, 0, 3, 5, 3, 3, 3, 0,\n",
       "       5, 3, 3, 3, 3, 3, 3, 5, 3, 3, 3, 3, 3, 3, 3, 0, 3, 3, 3, 0, 3, 3,\n",
       "       3, 3, 3, 0, 5, 3, 5, 3, 4, 3, 3, 3, 3, 3, 3, 5, 3, 3, 3, 3, 5, 0,\n",
       "       3, 3, 5, 3, 3, 3, 3, 3, 3, 3, 3, 3, 3, 3, 3, 3, 3, 5, 3, 0, 4, 3,\n",
       "       3, 0, 3, 3, 3, 3, 3, 3, 3, 3, 3, 3, 3, 3, 3, 3, 3, 3, 3, 3, 3, 3,\n",
       "       3, 0, 3, 3, 0, 3, 3, 3, 3, 3, 3, 3, 3, 5, 3, 3, 3, 0, 3, 0, 3, 5,\n",
       "       3, 3, 0, 3, 3, 5, 3, 3, 3, 3, 3, 3, 3, 3, 0, 3, 3, 3, 3, 0, 3, 3,\n",
       "       3, 3, 3, 0, 4, 3, 0, 3, 0, 5, 0, 3, 3, 3, 3, 3, 3, 3, 0, 5, 3, 3,\n",
       "       3, 3, 3, 3, 3, 0, 3, 3, 3, 3, 3, 3, 3, 0, 5, 0, 3, 3, 3, 4, 3, 3,\n",
       "       3, 3, 3, 3, 3, 3, 0, 3, 3, 0, 3, 3, 5, 3, 3, 3, 5, 3, 3, 3, 3, 3,\n",
       "       3, 3, 3, 3, 3, 3, 0, 0, 3, 5, 3, 3, 3, 0, 3, 3, 3, 3, 3, 3, 3, 3,\n",
       "       0, 3, 0, 3, 3, 3, 3, 0, 0, 3, 3, 3, 5, 5, 3, 3, 3, 3, 3, 5, 3, 0,\n",
       "       3, 3, 3, 4, 3, 0, 0, 0, 3, 0, 3, 3, 3, 0, 3, 3, 3, 3, 3, 3, 3, 3,\n",
       "       3, 3, 5, 5, 3, 4, 3, 5, 3, 5, 3, 3, 5, 3, 3, 0, 3, 3, 3, 3, 3, 5,\n",
       "       3, 3, 3, 0, 3, 5, 4, 3, 0, 3, 3, 3, 3, 5, 3, 3, 3, 3, 0, 3, 3, 0,\n",
       "       3, 0, 0, 3, 3, 3, 5, 3, 3, 3, 5, 3, 5, 3, 3, 0, 3, 3, 0, 5, 3, 3,\n",
       "       3, 3, 3, 3, 3, 3, 3, 3, 3, 3, 3, 5, 3, 3, 3, 0, 3, 3, 3, 0, 3, 0,\n",
       "       3, 3, 0, 0, 3, 3, 5, 5, 3, 3, 3, 5, 5, 3, 3, 3, 3, 3, 3, 3, 5, 3,\n",
       "       3, 3, 5, 5, 3, 3, 0, 3, 3, 3, 3, 3, 3, 0, 3, 3, 3, 0, 5, 3, 3, 0,\n",
       "       3, 3, 3, 3, 3, 3, 0, 3, 0, 3, 3, 0, 3, 3, 3, 0, 5, 3, 0, 3, 3, 5,\n",
       "       3, 3, 5, 3, 3, 0, 3, 3, 3, 3, 0, 3, 0, 3, 3, 3, 3, 3, 3, 3, 5, 3,\n",
       "       3, 3, 3, 3, 3, 3, 3, 0, 3, 3, 3, 3, 3, 5, 5, 3, 0, 0, 3, 3, 0, 5,\n",
       "       3, 3, 3, 0, 3, 3, 4, 5, 3, 3, 3, 5, 3, 3, 5, 3, 3, 3, 3, 3, 3, 3,\n",
       "       5, 5, 5, 3, 3, 4, 3, 3, 3, 3, 3, 0, 3, 5, 5, 3, 3, 3, 5, 3, 5, 0,\n",
       "       3, 3, 3, 0, 3, 3, 3, 3, 3, 3, 0, 3, 0, 3, 0, 3, 0, 3, 3, 3, 3, 3,\n",
       "       3, 3, 4, 3, 3, 3, 5, 3, 3, 3, 3, 3, 3, 3, 3, 4, 3, 3, 3, 3, 5, 5,\n",
       "       3, 5, 3, 3, 0, 4, 0, 3, 3, 3, 0, 5, 3, 3, 3, 3, 3, 3, 3, 3, 3, 3,\n",
       "       4, 5, 3, 3, 3, 3, 5, 0, 3, 3, 3, 3, 4, 5, 3, 3, 3, 0, 3, 3, 0, 0,\n",
       "       0, 5, 3, 0, 3, 3, 3, 3, 3, 3, 3, 3, 3, 4, 3, 3, 3, 3, 3, 0, 3, 3,\n",
       "       0], dtype=int64)"
      ]
     },
     "execution_count": 144,
     "metadata": {},
     "output_type": "execute_result"
    }
   ],
   "source": [
    "# Training \n",
    "\n",
    "classifier = SVC(kernel = 'rbf', random_state = 0)\n",
    "classifier.fit(X_train, y_train)\n",
    "\n",
    "\n",
    "# Prediction \n",
    "y_pred = classifier.predict(X_test) \n",
    "y_pred"
   ]
  },
  {
   "cell_type": "code",
   "execution_count": null,
   "metadata": {},
   "outputs": [
    {
     "name": "stdout",
     "output_type": "stream",
     "text": [
      " Classes [0 1 2 3 4 5]\n"
     ]
    },
    {
     "data": {
      "text/plain": [
       "array([[ 38,   0,   0,  52,   0,   0],\n",
       "       [  4,   0,   0,   6,   0,   0],\n",
       "       [  0,   0,   0,   8,   0,   0],\n",
       "       [ 43,   0,   0, 386,   2,  25],\n",
       "       [  4,   0,   0,  13,  13,   0],\n",
       "       [  0,   0,   0,   1,   0,  44]], dtype=int64)"
      ]
     },
     "execution_count": 145,
     "metadata": {},
     "output_type": "execute_result"
    }
   ],
   "source": [
    "#confusion matrix \n",
    "print(' Classes' ,classifier.classes_)\n",
    "cm = confusion_matrix(y_test, y_pred)\n",
    "\n",
    "cm"
   ]
  },
  {
   "cell_type": "code",
   "execution_count": null,
   "metadata": {},
   "outputs": [
    {
     "name": "stdout",
     "output_type": "stream",
     "text": [
      "Accuracy :  0.7527386541471048\n"
     ]
    }
   ],
   "source": [
    "\n",
    "print (\"Accuracy : \", accuracy_score(y_test, y_pred))"
   ]
  },
  {
   "cell_type": "code",
   "execution_count": null,
   "metadata": {},
   "outputs": [
    {
     "data": {
      "image/png": "[encoded data removed]",
      "text/plain": [
       "<Figure size 1000x600 with 2 Axes>"
      ]
     },
     "metadata": {},
     "output_type": "display_data"
    }
   ],
   "source": [
    "plt.figure(figsize=(10,6))\n",
    "fx=sns.heatmap(confusion_matrix(y_test,y_pred), annot=True, fmt=\".2f\",cmap=\"GnBu\")\n",
    "fx.set_title('Confusion Matrix \\n')\n",
    "fx.set_xlabel('\\n Predicted Values\\n')\n",
    "fx.set_ylabel('Actual Values\\n')\n",
    "fx.xaxis.set_ticklabels(attack_types)\n",
    "fx.yaxis.set_ticklabels(attack_types)\n",
    "plt.show()"
   ]
  },
  {
   "cell_type": "code",
   "execution_count": null,
   "metadata": {},
   "outputs": [
    {
     "name": "stdout",
     "output_type": "stream",
     "text": [
      "              precision    recall  f1-score   support\n",
      "\n",
      "           0       0.43      0.42      0.42        90\n",
      "           1       0.00      0.00      0.00        10\n",
      "           2       0.00      0.00      0.00         8\n",
      "           3       0.83      0.85      0.84       456\n",
      "           4       0.87      0.43      0.58        30\n",
      "           5       0.64      0.98      0.77        45\n",
      "\n",
      "    accuracy                           0.75       639\n",
      "   macro avg       0.46      0.45      0.44       639\n",
      "weighted avg       0.74      0.75      0.74       639\n",
      "\n"
     ]
    },
    {
     "name": "stderr",
     "output_type": "stream",
     "text": [
      "C:\\Users\\Samia\\AppData\\Local\\Packages\\PythonSoftwareFoundation.Python.3.10_qbz5n2kfra8p0\\LocalCache\\local-packages\\Python310\\site-packages\\sklearn\\metrics\\_classification.py:1344: UndefinedMetricWarning: Precision and F-score are ill-defined and being set to 0.0 in labels with no predicted samples. Use `zero_division` parameter to control this behavior.\n",
      "  _warn_prf(average, modifier, msg_start, len(result))\n",
      "C:\\Users\\Samia\\AppData\\Local\\Packages\\PythonSoftwareFoundation.Python.3.10_qbz5n2kfra8p0\\LocalCache\\local-packages\\Python310\\site-packages\\sklearn\\metrics\\_classification.py:1344: UndefinedMetricWarning: Precision and F-score are ill-defined and being set to 0.0 in labels with no predicted samples. Use `zero_division` parameter to control this behavior.\n",
      "  _warn_prf(average, modifier, msg_start, len(result))\n",
      "C:\\Users\\Samia\\AppData\\Local\\Packages\\PythonSoftwareFoundation.Python.3.10_qbz5n2kfra8p0\\LocalCache\\local-packages\\Python310\\site-packages\\sklearn\\metrics\\_classification.py:1344: UndefinedMetricWarning: Precision and F-score are ill-defined and being set to 0.0 in labels with no predicted samples. Use `zero_division` parameter to control this behavior.\n",
      "  _warn_prf(average, modifier, msg_start, len(result))\n"
     ]
    }
   ],
   "source": [
    "print(classification_report(y_test, y_pred))"
   ]
  },
  {
   "attachments": {},
   "cell_type": "markdown",
   "metadata": {},
   "source": [
    "# GridSearchCV SVC Model "
   ]
  },
  {
   "cell_type": "code",
   "execution_count": null,
   "metadata": {},
   "outputs": [
    {
     "name": "stdout",
     "output_type": "stream",
     "text": [
      "{'C': 100, 'gamma': 1, 'kernel': 'rbf'}\n",
      "SVC(C=100, gamma=1)\n"
     ]
    }
   ],
   "source": [
    "#MOdleing :\n",
    "\n",
    "# Select Model\n",
    "# parameter Selection GridSearch Cross Validation\n",
    "# Define Grid \n",
    "\n",
    "\n",
    "\n",
    "\n",
    "# define parameter range\n",
    "grid = { \n",
    "    'C': [0.1, 1, 10, 100, 1000], \n",
    "    'gamma': [1, 0.1, 0.01, 0.001, 0.0001],\n",
    "    'kernel': ['rbf'],\n",
    "}\n",
    "\n",
    "# define estimator \n",
    "svc_cv = GridSearchCV(estimator=SVC(), param_grid=grid, cv= 5)\n",
    "svc_cv.fit(X_train, y_train)\n",
    "\n",
    "# print best parameter after tuning\n",
    "print(svc_cv.best_params_)\n",
    "  \n",
    "# print how our model looks after hyper-parameter tuning\n",
    "print(svc_cv.best_estimator_)\n"
   ]
  },
  {
   "cell_type": "code",
   "execution_count": null,
   "metadata": {},
   "outputs": [
    {
     "name": "stdout",
     "output_type": "stream",
     "text": [
      "              precision    recall  f1-score   support\n",
      "\n",
      "           0       0.44      0.59      0.50        90\n",
      "           1       0.00      0.00      0.00        10\n",
      "           2       0.00      0.00      0.00         8\n",
      "           3       0.86      0.87      0.86       456\n",
      "           4       0.76      0.43      0.55        30\n",
      "           5       1.00      0.96      0.98        45\n",
      "\n",
      "    accuracy                           0.79       639\n",
      "   macro avg       0.51      0.47      0.48       639\n",
      "weighted avg       0.78      0.79      0.78       639\n",
      "\n"
     ]
    },
    {
     "name": "stderr",
     "output_type": "stream",
     "text": [
      "C:\\Users\\Samia\\AppData\\Local\\Packages\\PythonSoftwareFoundation.Python.3.10_qbz5n2kfra8p0\\LocalCache\\local-packages\\Python310\\site-packages\\sklearn\\metrics\\_classification.py:1344: UndefinedMetricWarning: Precision and F-score are ill-defined and being set to 0.0 in labels with no predicted samples. Use `zero_division` parameter to control this behavior.\n",
      "  _warn_prf(average, modifier, msg_start, len(result))\n",
      "C:\\Users\\Samia\\AppData\\Local\\Packages\\PythonSoftwareFoundation.Python.3.10_qbz5n2kfra8p0\\LocalCache\\local-packages\\Python310\\site-packages\\sklearn\\metrics\\_classification.py:1344: UndefinedMetricWarning: Precision and F-score are ill-defined and being set to 0.0 in labels with no predicted samples. Use `zero_division` parameter to control this behavior.\n",
      "  _warn_prf(average, modifier, msg_start, len(result))\n",
      "C:\\Users\\Samia\\AppData\\Local\\Packages\\PythonSoftwareFoundation.Python.3.10_qbz5n2kfra8p0\\LocalCache\\local-packages\\Python310\\site-packages\\sklearn\\metrics\\_classification.py:1344: UndefinedMetricWarning: Precision and F-score are ill-defined and being set to 0.0 in labels with no predicted samples. Use `zero_division` parameter to control this behavior.\n",
      "  _warn_prf(average, modifier, msg_start, len(result))\n"
     ]
    }
   ],
   "source": [
    "# gridsearch prediciton\n",
    "grid_predictions = svc_cv.predict(X_test)\n",
    "  \n",
    "# print classification report\n",
    "print(classification_report(y_test, grid_predictions))"
   ]
  },
  {
   "cell_type": "code",
   "execution_count": null,
   "metadata": {},
   "outputs": [],
   "source": []
  },
  {
   "cell_type": "code",
   "execution_count": null,
   "metadata": {},
   "outputs": [
    {
     "data": {
      "text/plain": [
       "['svc_cv.sav']"
      ]
     },
     "execution_count": 151,
     "metadata": {},
     "output_type": "execute_result"
    }
   ],
   "source": [
    "\n",
    "\n",
    "# save the model \n",
    "SVC_cv = 'svc_cv.sav'\n",
    "joblib.dump(svc_cv, SVC_cv)\n",
    " "
   ]
  },
  {
   "attachments": {},
   "cell_type": "markdown",
   "metadata": {},
   "source": [
    "# Model 2  : Clustering for Semi-Supervised Learning : Classification of attacks to malicious or not "
   ]
  },
  {
   "attachments": {},
   "cell_type": "markdown",
   "metadata": {},
   "source": [
    "##### Data Processing for malicious df"
   ]
  },
  {
   "cell_type": "code",
   "execution_count": null,
   "metadata": {},
   "outputs": [
    {
     "name": "stdout",
     "output_type": "stream",
     "text": [
      "Attack types are : ['Exploit', 'Bruteforce', 'Spammer', 'Scanner', 'Other', 'Crawler']\n"
     ]
    }
   ],
   "source": [
    "malicious = malicious.reset_index(drop=True)\n",
    "malicious.malicious.value_counts()\n",
    "malicious['malicious'].replace('',np.nan,inplace=True)\n",
    "# attack type \n",
    "attack_types = list(malicious['attack_type'].unique())\n",
    "print(\"Attack types are :\",attack_types)\n",
    "malicious['attack_type'] = malicious['attack_type'].replace(['Bruteforce','Exploit','Spammer','Scanner','Other','Crawler'],[0,1,2,3,4,5])\n",
    "\n",
    "malicious['malicious'].replace('',np.nan,inplace=True)\n",
    "\n",
    "\n"
   ]
  },
  {
   "cell_type": "code",
   "execution_count": null,
   "metadata": {},
   "outputs": [],
   "source": [
    "# count number of watchers for each ip\n",
    "\n",
    "\n",
    "malicious['number_of_watchers'] =malicious.watcher_id.str.count(',')+1\n"
   ]
  },
  {
   "cell_type": "code",
   "execution_count": null,
   "metadata": {},
   "outputs": [
    {
     "data": {
      "text/html": [
       "<div>\n",
       "<style scoped>\n",
       "    .dataframe tbody tr th:only-of-type {\n",
       "        vertical-align: middle;\n",
       "    }\n",
       "\n",
       "    .dataframe tbody tr th {\n",
       "        vertical-align: top;\n",
       "    }\n",
       "\n",
       "    .dataframe thead th {\n",
       "        text-align: right;\n",
       "    }\n",
       "</style>\n",
       "<table border=\"1\" class=\"dataframe\">\n",
       "  <thead>\n",
       "    <tr style=\"text-align: right;\">\n",
       "      <th></th>\n",
       "      <th>id</th>\n",
       "      <th>watcher_id</th>\n",
       "      <th>attack_type</th>\n",
       "      <th>malicious</th>\n",
       "      <th>AS_num</th>\n",
       "      <th>number_of_watchers</th>\n",
       "    </tr>\n",
       "  </thead>\n",
       "  <tbody>\n",
       "    <tr>\n",
       "      <th>0</th>\n",
       "      <td>3</td>\n",
       "      <td>{21}</td>\n",
       "      <td>1</td>\n",
       "      <td>NaN</td>\n",
       "      <td>16509.0</td>\n",
       "      <td>1</td>\n",
       "    </tr>\n",
       "    <tr>\n",
       "      <th>1</th>\n",
       "      <td>4</td>\n",
       "      <td>{25}</td>\n",
       "      <td>1</td>\n",
       "      <td>NaN</td>\n",
       "      <td>16509.0</td>\n",
       "      <td>1</td>\n",
       "    </tr>\n",
       "    <tr>\n",
       "      <th>2</th>\n",
       "      <td>78</td>\n",
       "      <td>{20}</td>\n",
       "      <td>0</td>\n",
       "      <td>True</td>\n",
       "      <td>9299.0</td>\n",
       "      <td>1</td>\n",
       "    </tr>\n",
       "    <tr>\n",
       "      <th>3</th>\n",
       "      <td>92</td>\n",
       "      <td>{28}</td>\n",
       "      <td>1</td>\n",
       "      <td>NaN</td>\n",
       "      <td>16509.0</td>\n",
       "      <td>1</td>\n",
       "    </tr>\n",
       "    <tr>\n",
       "      <th>4</th>\n",
       "      <td>93</td>\n",
       "      <td>{26}</td>\n",
       "      <td>1</td>\n",
       "      <td>NaN</td>\n",
       "      <td>16509.0</td>\n",
       "      <td>1</td>\n",
       "    </tr>\n",
       "    <tr>\n",
       "      <th>...</th>\n",
       "      <td>...</td>\n",
       "      <td>...</td>\n",
       "      <td>...</td>\n",
       "      <td>...</td>\n",
       "      <td>...</td>\n",
       "      <td>...</td>\n",
       "    </tr>\n",
       "    <tr>\n",
       "      <th>29182</th>\n",
       "      <td>1350838</td>\n",
       "      <td>{96848, 7286}</td>\n",
       "      <td>4</td>\n",
       "      <td>NaN</td>\n",
       "      <td>14061.0</td>\n",
       "      <td>2</td>\n",
       "    </tr>\n",
       "    <tr>\n",
       "      <th>29183</th>\n",
       "      <td>1350840</td>\n",
       "      <td>{100844, 7286, 84935}</td>\n",
       "      <td>3</td>\n",
       "      <td>NaN</td>\n",
       "      <td>139190.0</td>\n",
       "      <td>3</td>\n",
       "    </tr>\n",
       "    <tr>\n",
       "      <th>29184</th>\n",
       "      <td>1350844</td>\n",
       "      <td>{7286, 47}</td>\n",
       "      <td>4</td>\n",
       "      <td>NaN</td>\n",
       "      <td>20473.0</td>\n",
       "      <td>2</td>\n",
       "    </tr>\n",
       "    <tr>\n",
       "      <th>29185</th>\n",
       "      <td>1351030</td>\n",
       "      <td>{56291, 56324}</td>\n",
       "      <td>2</td>\n",
       "      <td>NaN</td>\n",
       "      <td>14061.0</td>\n",
       "      <td>2</td>\n",
       "    </tr>\n",
       "    <tr>\n",
       "      <th>29186</th>\n",
       "      <td>1351065</td>\n",
       "      <td>{43124, 33524, 43157, 43158}</td>\n",
       "      <td>3</td>\n",
       "      <td>NaN</td>\n",
       "      <td>36352.0</td>\n",
       "      <td>4</td>\n",
       "    </tr>\n",
       "  </tbody>\n",
       "</table>\n",
       "<p>29187 rows × 6 columns</p>\n",
       "</div>"
      ],
      "text/plain": [
       "            id                    watcher_id  attack_type malicious    AS_num  \\\n",
       "0            3                          {21}            1       NaN   16509.0   \n",
       "1            4                          {25}            1       NaN   16509.0   \n",
       "2           78                          {20}            0      True    9299.0   \n",
       "3           92                          {28}            1       NaN   16509.0   \n",
       "4           93                          {26}            1       NaN   16509.0   \n",
       "...        ...                           ...          ...       ...       ...   \n",
       "29182  1350838                 {96848, 7286}            4       NaN   14061.0   \n",
       "29183  1350840         {100844, 7286, 84935}            3       NaN  139190.0   \n",
       "29184  1350844                    {7286, 47}            4       NaN   20473.0   \n",
       "29185  1351030                {56291, 56324}            2       NaN   14061.0   \n",
       "29186  1351065  {43124, 33524, 43157, 43158}            3       NaN   36352.0   \n",
       "\n",
       "       number_of_watchers  \n",
       "0                       1  \n",
       "1                       1  \n",
       "2                       1  \n",
       "3                       1  \n",
       "4                       1  \n",
       "...                   ...  \n",
       "29182                   2  \n",
       "29183                   3  \n",
       "29184                   2  \n",
       "29185                   2  \n",
       "29186                   4  \n",
       "\n",
       "[29187 rows x 6 columns]"
      ]
     },
     "execution_count": 154,
     "metadata": {},
     "output_type": "execute_result"
    }
   ],
   "source": [
    "malicious"
   ]
  },
  {
   "cell_type": "code",
   "execution_count": null,
   "metadata": {},
   "outputs": [],
   "source": [
    "malicious.dropna(subset='AS_num',inplace=True)    "
   ]
  },
  {
   "cell_type": "code",
   "execution_count": null,
   "metadata": {},
   "outputs": [],
   "source": [
    "# get number of ips for each AS\n",
    "sth = list()\n",
    "for element in malicious.AS_num.values :\n",
    "    sth.append(df_autonomous_systems.loc[df_autonomous_systems['as_num']== int(float(element)),'n_ips_reported'].values)\n"
   ]
  },
  {
   "cell_type": "code",
   "execution_count": null,
   "metadata": {},
   "outputs": [],
   "source": [
    "lat_list = [item for sublist in sth for item in sublist]"
   ]
  },
  {
   "cell_type": "code",
   "execution_count": null,
   "metadata": {},
   "outputs": [
    {
     "data": {
      "text/plain": [
       "29173"
      ]
     },
     "execution_count": 158,
     "metadata": {},
     "output_type": "execute_result"
    }
   ],
   "source": [
    "len(lat_list)"
   ]
  },
  {
   "cell_type": "code",
   "execution_count": null,
   "metadata": {},
   "outputs": [
    {
     "data": {
      "text/plain": [
       "(29186, 6)"
      ]
     },
     "execution_count": 159,
     "metadata": {},
     "output_type": "execute_result"
    }
   ],
   "source": [
    "malicious.shape"
   ]
  },
  {
   "cell_type": "code",
   "execution_count": null,
   "metadata": {},
   "outputs": [
    {
     "data": {
      "text/plain": [
       "0        30914\n",
       "1        30914\n",
       "2          769\n",
       "3        30914\n",
       "4        30914\n",
       "         ...  \n",
       "29168    19829\n",
       "29169      169\n",
       "29170     1218\n",
       "29171    19829\n",
       "29172     1808\n",
       "Length: 29173, dtype: int32"
      ]
     },
     "execution_count": 160,
     "metadata": {},
     "output_type": "execute_result"
    }
   ],
   "source": [
    "pd.Series(lat_list)"
   ]
  },
  {
   "cell_type": "code",
   "execution_count": null,
   "metadata": {},
   "outputs": [],
   "source": [
    "malicious ['n_ips_by_AS'] = pd.Series(lat_list)"
   ]
  },
  {
   "cell_type": "code",
   "execution_count": null,
   "metadata": {},
   "outputs": [],
   "source": [
    "malicious.dropna(subset='n_ips_by_AS',inplace=True)    "
   ]
  },
  {
   "cell_type": "code",
   "execution_count": null,
   "metadata": {},
   "outputs": [
    {
     "data": {
      "text/html": [
       "<div>\n",
       "<style scoped>\n",
       "    .dataframe tbody tr th:only-of-type {\n",
       "        vertical-align: middle;\n",
       "    }\n",
       "\n",
       "    .dataframe tbody tr th {\n",
       "        vertical-align: top;\n",
       "    }\n",
       "\n",
       "    .dataframe thead th {\n",
       "        text-align: right;\n",
       "    }\n",
       "</style>\n",
       "<table border=\"1\" class=\"dataframe\">\n",
       "  <thead>\n",
       "    <tr style=\"text-align: right;\">\n",
       "      <th></th>\n",
       "      <th>id</th>\n",
       "      <th>watcher_id</th>\n",
       "      <th>attack_type</th>\n",
       "      <th>malicious</th>\n",
       "      <th>AS_num</th>\n",
       "      <th>number_of_watchers</th>\n",
       "      <th>n_ips_by_AS</th>\n",
       "    </tr>\n",
       "  </thead>\n",
       "  <tbody>\n",
       "    <tr>\n",
       "      <th>0</th>\n",
       "      <td>3</td>\n",
       "      <td>{21}</td>\n",
       "      <td>1</td>\n",
       "      <td>NaN</td>\n",
       "      <td>16509.0</td>\n",
       "      <td>1</td>\n",
       "      <td>30914.0</td>\n",
       "    </tr>\n",
       "    <tr>\n",
       "      <th>1</th>\n",
       "      <td>4</td>\n",
       "      <td>{25}</td>\n",
       "      <td>1</td>\n",
       "      <td>NaN</td>\n",
       "      <td>16509.0</td>\n",
       "      <td>1</td>\n",
       "      <td>30914.0</td>\n",
       "    </tr>\n",
       "    <tr>\n",
       "      <th>2</th>\n",
       "      <td>78</td>\n",
       "      <td>{20}</td>\n",
       "      <td>0</td>\n",
       "      <td>True</td>\n",
       "      <td>9299.0</td>\n",
       "      <td>1</td>\n",
       "      <td>769.0</td>\n",
       "    </tr>\n",
       "    <tr>\n",
       "      <th>3</th>\n",
       "      <td>92</td>\n",
       "      <td>{28}</td>\n",
       "      <td>1</td>\n",
       "      <td>NaN</td>\n",
       "      <td>16509.0</td>\n",
       "      <td>1</td>\n",
       "      <td>30914.0</td>\n",
       "    </tr>\n",
       "    <tr>\n",
       "      <th>4</th>\n",
       "      <td>93</td>\n",
       "      <td>{26}</td>\n",
       "      <td>1</td>\n",
       "      <td>NaN</td>\n",
       "      <td>16509.0</td>\n",
       "      <td>1</td>\n",
       "      <td>30914.0</td>\n",
       "    </tr>\n",
       "    <tr>\n",
       "      <th>...</th>\n",
       "      <td>...</td>\n",
       "      <td>...</td>\n",
       "      <td>...</td>\n",
       "      <td>...</td>\n",
       "      <td>...</td>\n",
       "      <td>...</td>\n",
       "      <td>...</td>\n",
       "    </tr>\n",
       "    <tr>\n",
       "      <th>29168</th>\n",
       "      <td>1350389</td>\n",
       "      <td>{90480, 78303}</td>\n",
       "      <td>0</td>\n",
       "      <td>NaN</td>\n",
       "      <td>9145.0</td>\n",
       "      <td>2</td>\n",
       "      <td>19829.0</td>\n",
       "    </tr>\n",
       "    <tr>\n",
       "      <th>29169</th>\n",
       "      <td>1350399</td>\n",
       "      <td>{94803, 7286}</td>\n",
       "      <td>4</td>\n",
       "      <td>NaN</td>\n",
       "      <td>51167.0</td>\n",
       "      <td>2</td>\n",
       "      <td>169.0</td>\n",
       "    </tr>\n",
       "    <tr>\n",
       "      <th>29170</th>\n",
       "      <td>1350485</td>\n",
       "      <td>{96848, 25139, 94835, 94637}</td>\n",
       "      <td>4</td>\n",
       "      <td>NaN</td>\n",
       "      <td>16276.0</td>\n",
       "      <td>4</td>\n",
       "      <td>1218.0</td>\n",
       "    </tr>\n",
       "    <tr>\n",
       "      <th>29171</th>\n",
       "      <td>1350489</td>\n",
       "      <td>{96848, 90744}</td>\n",
       "      <td>4</td>\n",
       "      <td>NaN</td>\n",
       "      <td>131724.0</td>\n",
       "      <td>2</td>\n",
       "      <td>19829.0</td>\n",
       "    </tr>\n",
       "    <tr>\n",
       "      <th>29172</th>\n",
       "      <td>1350493</td>\n",
       "      <td>{95000, 95300, 94671}</td>\n",
       "      <td>4</td>\n",
       "      <td>NaN</td>\n",
       "      <td>14061.0</td>\n",
       "      <td>3</td>\n",
       "      <td>1808.0</td>\n",
       "    </tr>\n",
       "  </tbody>\n",
       "</table>\n",
       "<p>29172 rows × 7 columns</p>\n",
       "</div>"
      ],
      "text/plain": [
       "            id                    watcher_id  attack_type malicious    AS_num  \\\n",
       "0            3                          {21}            1       NaN   16509.0   \n",
       "1            4                          {25}            1       NaN   16509.0   \n",
       "2           78                          {20}            0      True    9299.0   \n",
       "3           92                          {28}            1       NaN   16509.0   \n",
       "4           93                          {26}            1       NaN   16509.0   \n",
       "...        ...                           ...          ...       ...       ...   \n",
       "29168  1350389                {90480, 78303}            0       NaN    9145.0   \n",
       "29169  1350399                 {94803, 7286}            4       NaN   51167.0   \n",
       "29170  1350485  {96848, 25139, 94835, 94637}            4       NaN   16276.0   \n",
       "29171  1350489                {96848, 90744}            4       NaN  131724.0   \n",
       "29172  1350493         {95000, 95300, 94671}            4       NaN   14061.0   \n",
       "\n",
       "       number_of_watchers  n_ips_by_AS  \n",
       "0                       1      30914.0  \n",
       "1                       1      30914.0  \n",
       "2                       1        769.0  \n",
       "3                       1      30914.0  \n",
       "4                       1      30914.0  \n",
       "...                   ...          ...  \n",
       "29168                   2      19829.0  \n",
       "29169                   2        169.0  \n",
       "29170                   4       1218.0  \n",
       "29171                   2      19829.0  \n",
       "29172                   3       1808.0  \n",
       "\n",
       "[29172 rows x 7 columns]"
      ]
     },
     "execution_count": 163,
     "metadata": {},
     "output_type": "execute_result"
    }
   ],
   "source": [
    "malicious"
   ]
  },
  {
   "cell_type": "code",
   "execution_count": null,
   "metadata": {},
   "outputs": [],
   "source": []
  },
  {
   "attachments": {},
   "cell_type": "markdown",
   "metadata": {},
   "source": [
    "#### Data Prepareation \n",
    "\n",
    "\n",
    "\n"
   ]
  },
  {
   "cell_type": "code",
   "execution_count": null,
   "metadata": {},
   "outputs": [],
   "source": []
  },
  {
   "cell_type": "code",
   "execution_count": null,
   "metadata": {},
   "outputs": [],
   "source": [
    "malicious_labled = malicious.dropna(axis=0)"
   ]
  },
  {
   "cell_type": "code",
   "execution_count": null,
   "metadata": {},
   "outputs": [
    {
     "data": {
      "text/html": [
       "<div>\n",
       "<style scoped>\n",
       "    .dataframe tbody tr th:only-of-type {\n",
       "        vertical-align: middle;\n",
       "    }\n",
       "\n",
       "    .dataframe tbody tr th {\n",
       "        vertical-align: top;\n",
       "    }\n",
       "\n",
       "    .dataframe thead th {\n",
       "        text-align: right;\n",
       "    }\n",
       "</style>\n",
       "<table border=\"1\" class=\"dataframe\">\n",
       "  <thead>\n",
       "    <tr style=\"text-align: right;\">\n",
       "      <th></th>\n",
       "      <th>id</th>\n",
       "      <th>watcher_id</th>\n",
       "      <th>attack_type</th>\n",
       "      <th>malicious</th>\n",
       "      <th>AS_num</th>\n",
       "      <th>number_of_watchers</th>\n",
       "      <th>n_ips_by_AS</th>\n",
       "    </tr>\n",
       "  </thead>\n",
       "  <tbody>\n",
       "    <tr>\n",
       "      <th>2</th>\n",
       "      <td>78</td>\n",
       "      <td>{20}</td>\n",
       "      <td>0</td>\n",
       "      <td>True</td>\n",
       "      <td>9299.0</td>\n",
       "      <td>1</td>\n",
       "      <td>769.0</td>\n",
       "    </tr>\n",
       "    <tr>\n",
       "      <th>9</th>\n",
       "      <td>508</td>\n",
       "      <td>{25}</td>\n",
       "      <td>1</td>\n",
       "      <td>True</td>\n",
       "      <td>174.0</td>\n",
       "      <td>1</td>\n",
       "      <td>863.0</td>\n",
       "    </tr>\n",
       "    <tr>\n",
       "      <th>10</th>\n",
       "      <td>617</td>\n",
       "      <td>{290}</td>\n",
       "      <td>2</td>\n",
       "      <td>True</td>\n",
       "      <td>202425.0</td>\n",
       "      <td>1</td>\n",
       "      <td>155.0</td>\n",
       "    </tr>\n",
       "    <tr>\n",
       "      <th>12</th>\n",
       "      <td>980</td>\n",
       "      <td>{77642}</td>\n",
       "      <td>3</td>\n",
       "      <td>True</td>\n",
       "      <td>208323.0</td>\n",
       "      <td>1</td>\n",
       "      <td>37.0</td>\n",
       "    </tr>\n",
       "    <tr>\n",
       "      <th>13</th>\n",
       "      <td>1146</td>\n",
       "      <td>{53}</td>\n",
       "      <td>0</td>\n",
       "      <td>True</td>\n",
       "      <td>3269.0</td>\n",
       "      <td>1</td>\n",
       "      <td>944.0</td>\n",
       "    </tr>\n",
       "    <tr>\n",
       "      <th>...</th>\n",
       "      <td>...</td>\n",
       "      <td>...</td>\n",
       "      <td>...</td>\n",
       "      <td>...</td>\n",
       "      <td>...</td>\n",
       "      <td>...</td>\n",
       "      <td>...</td>\n",
       "    </tr>\n",
       "    <tr>\n",
       "      <th>28847</th>\n",
       "      <td>1340791</td>\n",
       "      <td>{58337, 30287, 49460, 66455, 86552, 72794, 518...</td>\n",
       "      <td>0</td>\n",
       "      <td>True</td>\n",
       "      <td>14061.0</td>\n",
       "      <td>9</td>\n",
       "      <td>255.0</td>\n",
       "    </tr>\n",
       "    <tr>\n",
       "      <th>28869</th>\n",
       "      <td>1341647</td>\n",
       "      <td>{76289, 96386, 66818, 60548, 62726, 101006, 66...</td>\n",
       "      <td>4</td>\n",
       "      <td>True</td>\n",
       "      <td>396982.0</td>\n",
       "      <td>40</td>\n",
       "      <td>30914.0</td>\n",
       "    </tr>\n",
       "    <tr>\n",
       "      <th>28962</th>\n",
       "      <td>1344817</td>\n",
       "      <td>{95200, 94208, 93449, 94637, 61901, 47, 94769,...</td>\n",
       "      <td>4</td>\n",
       "      <td>True</td>\n",
       "      <td>56046.0</td>\n",
       "      <td>13</td>\n",
       "      <td>1449.0</td>\n",
       "    </tr>\n",
       "    <tr>\n",
       "      <th>29093</th>\n",
       "      <td>1348053</td>\n",
       "      <td>{90512, 26228, 7286, 66455, 792, 3161, 77114, ...</td>\n",
       "      <td>3</td>\n",
       "      <td>True</td>\n",
       "      <td>14061.0</td>\n",
       "      <td>9</td>\n",
       "      <td>4372.0</td>\n",
       "    </tr>\n",
       "    <tr>\n",
       "      <th>29164</th>\n",
       "      <td>1350212</td>\n",
       "      <td>{7286, 47}</td>\n",
       "      <td>4</td>\n",
       "      <td>True</td>\n",
       "      <td>45102.0</td>\n",
       "      <td>2</td>\n",
       "      <td>39.0</td>\n",
       "    </tr>\n",
       "  </tbody>\n",
       "</table>\n",
       "<p>3195 rows × 7 columns</p>\n",
       "</div>"
      ],
      "text/plain": [
       "            id                                         watcher_id  \\\n",
       "2           78                                               {20}   \n",
       "9          508                                               {25}   \n",
       "10         617                                              {290}   \n",
       "12         980                                            {77642}   \n",
       "13        1146                                               {53}   \n",
       "...        ...                                                ...   \n",
       "28847  1340791  {58337, 30287, 49460, 66455, 86552, 72794, 518...   \n",
       "28869  1341647  {76289, 96386, 66818, 60548, 62726, 101006, 66...   \n",
       "28962  1344817  {95200, 94208, 93449, 94637, 61901, 47, 94769,...   \n",
       "29093  1348053  {90512, 26228, 7286, 66455, 792, 3161, 77114, ...   \n",
       "29164  1350212                                         {7286, 47}   \n",
       "\n",
       "       attack_type malicious    AS_num  number_of_watchers  n_ips_by_AS  \n",
       "2                0      True    9299.0                   1        769.0  \n",
       "9                1      True     174.0                   1        863.0  \n",
       "10               2      True  202425.0                   1        155.0  \n",
       "12               3      True  208323.0                   1         37.0  \n",
       "13               0      True    3269.0                   1        944.0  \n",
       "...            ...       ...       ...                 ...          ...  \n",
       "28847            0      True   14061.0                   9        255.0  \n",
       "28869            4      True  396982.0                  40      30914.0  \n",
       "28962            4      True   56046.0                  13       1449.0  \n",
       "29093            3      True   14061.0                   9       4372.0  \n",
       "29164            4      True   45102.0                   2         39.0  \n",
       "\n",
       "[3195 rows x 7 columns]"
      ]
     },
     "execution_count": 165,
     "metadata": {},
     "output_type": "execute_result"
    }
   ],
   "source": [
    "malicious_labled"
   ]
  },
  {
   "cell_type": "code",
   "execution_count": null,
   "metadata": {},
   "outputs": [
    {
     "name": "stderr",
     "output_type": "stream",
     "text": [
      "C:\\Users\\Samia\\AppData\\Local\\Temp\\ipykernel_4412\\4181144833.py:3: FutureWarning: The default value of numeric_only in DataFrame.corr is deprecated. In a future version, it will default to False. Select only valid columns or specify the value of numeric_only to silence this warning.\n",
      "  sns.heatmap(malicious_labled.corr())\n"
     ]
    },
    {
     "data": {
      "text/plain": [
       "<AxesSubplot: >"
      ]
     },
     "execution_count": 166,
     "metadata": {},
     "output_type": "execute_result"
    },
    {
     "data": {
      "image/png": "[encoded data removed]",
      "text/plain": [
       "<Figure size 640x480 with 2 Axes>"
      ]
     },
     "metadata": {},
     "output_type": "display_data"
    }
   ],
   "source": [
    "# Correlation Analsysis \n",
    "\n",
    "sns.heatmap(malicious_labled.corr())"
   ]
  },
  {
   "cell_type": "code",
   "execution_count": null,
   "metadata": {},
   "outputs": [
    {
     "data": {
      "text/plain": [
       "False    1125\n",
       "True     1083\n",
       "True      939\n",
       "False      48\n",
       "Name: malicious, dtype: int64"
      ]
     },
     "execution_count": 167,
     "metadata": {},
     "output_type": "execute_result"
    }
   ],
   "source": [
    "malicious_labled.malicious.value_counts()"
   ]
  },
  {
   "cell_type": "code",
   "execution_count": null,
   "metadata": {},
   "outputs": [
    {
     "name": "stderr",
     "output_type": "stream",
     "text": [
      "C:\\Users\\Samia\\AppData\\Local\\Temp\\ipykernel_4412\\4069775347.py:5: SettingWithCopyWarning: \n",
      "A value is trying to be set on a copy of a slice from a DataFrame.\n",
      "Try using .loc[row_indexer,col_indexer] = value instead\n",
      "\n",
      "See the caveats in the documentation: https://pandas.pydata.org/pandas-docs/stable/user_guide/indexing.html#returning-a-view-versus-a-copy\n",
      "  malicious_labled['malicious'] = malicious_labled['malicious'].replace(\"True\",'1',regex=True)\n",
      "C:\\Users\\Samia\\AppData\\Local\\Temp\\ipykernel_4412\\4069775347.py:6: SettingWithCopyWarning: \n",
      "A value is trying to be set on a copy of a slice from a DataFrame.\n",
      "Try using .loc[row_indexer,col_indexer] = value instead\n",
      "\n",
      "See the caveats in the documentation: https://pandas.pydata.org/pandas-docs/stable/user_guide/indexing.html#returning-a-view-versus-a-copy\n",
      "  malicious_labled['malicious'] = malicious_labled['malicious'].replace(\"False\",'0',regex=True)\n",
      "C:\\Users\\Samia\\AppData\\Local\\Temp\\ipykernel_4412\\4069775347.py:9: SettingWithCopyWarning: \n",
      "A value is trying to be set on a copy of a slice from a DataFrame.\n",
      "Try using .loc[row_indexer,col_indexer] = value instead\n",
      "\n",
      "See the caveats in the documentation: https://pandas.pydata.org/pandas-docs/stable/user_guide/indexing.html#returning-a-view-versus-a-copy\n",
      "  malicious_labled['malicious'] = malicious_labled['malicious'].astype(int)\n"
     ]
    }
   ],
   "source": [
    "# Feature Transorfmation :\n",
    "# Encoding : \n",
    "# malicious column:\n",
    "\n",
    "malicious_labled['malicious'] = malicious_labled['malicious'].replace(\"True\",'1',regex=True)\n",
    "malicious_labled['malicious'] = malicious_labled['malicious'].replace(\"False\",'0',regex=True)\n",
    "#df_malicious_ips['malicious'] = np.where(df_malicious_ips[\"malicious\"]==False,0,1 )\n",
    "# encode malicious to integer values\n",
    "malicious_labled['malicious'] = malicious_labled['malicious'].astype(int)"
   ]
  },
  {
   "cell_type": "code",
   "execution_count": null,
   "metadata": {},
   "outputs": [],
   "source": [
    "# Data Preparation\n",
    "\n",
    "# Create a feature space \n",
    "\n",
    "\n",
    "df = malicious_labled[['AS_num','attack_type','number_of_watchers','n_ips_by_AS']]\n",
    "\n",
    "\n",
    "# Convert data to numpy array\n",
    "X = df.to_numpy()\n",
    "y = np.array(malicious_labled['malicious'])\n",
    "\n",
    "# Train Test Split \n",
    "\n",
    "X_train, X_test, y_train, y_test = train_test_split(X, y, test_size=0.20, random_state=42)\n",
    "\n",
    "\n",
    "\n",
    "# Feature Scaling\n",
    "scaler = StandardScaler()  \n",
    "\n",
    "X_train = scaler.fit_transform(X_train)\n",
    "X_test = scaler.transform(X_test)\n"
   ]
  },
  {
   "cell_type": "code",
   "execution_count": null,
   "metadata": {},
   "outputs": [
    {
     "data": {
      "text/plain": [
       "array([0, 1, 1, ..., 0, 1, 1])"
      ]
     },
     "execution_count": 170,
     "metadata": {},
     "output_type": "execute_result"
    }
   ],
   "source": [
    "y_train"
   ]
  },
  {
   "cell_type": "code",
   "execution_count": null,
   "metadata": {},
   "outputs": [
    {
     "data": {
      "text/plain": [
       "(2556,)"
      ]
     },
     "execution_count": 171,
     "metadata": {},
     "output_type": "execute_result"
    }
   ],
   "source": [
    "y_train.shape"
   ]
  },
  {
   "cell_type": "code",
   "execution_count": null,
   "metadata": {},
   "outputs": [
    {
     "data": {
      "text/plain": [
       "(2556, 4)"
      ]
     },
     "execution_count": 172,
     "metadata": {},
     "output_type": "execute_result"
    }
   ],
   "source": [
    "X_train.shape"
   ]
  },
  {
   "cell_type": "code",
   "execution_count": null,
   "metadata": {},
   "outputs": [
    {
     "data": {
      "text/plain": [
       "(639, 4)"
      ]
     },
     "execution_count": 173,
     "metadata": {},
     "output_type": "execute_result"
    }
   ],
   "source": [
    "X_test.shape"
   ]
  },
  {
   "cell_type": "code",
   "execution_count": null,
   "metadata": {},
   "outputs": [
    {
     "data": {
      "text/plain": [
       "(639,)"
      ]
     },
     "execution_count": 174,
     "metadata": {},
     "output_type": "execute_result"
    }
   ],
   "source": [
    "y_test.shape\n"
   ]
  },
  {
   "cell_type": "code",
   "execution_count": null,
   "metadata": {},
   "outputs": [
    {
     "data": {
      "text/html": [
       "<style>#sk-container-id-1 {color: black;background-color: white;}#sk-container-id-1 pre{padding: 0;}#sk-container-id-1 div.sk-toggleable {background-color: white;}#sk-container-id-1 label.sk-toggleable__label {cursor: pointer;display: block;width: 100%;margin-bottom: 0;padding: 0.3em;box-sizing: border-box;text-align: center;}#sk-container-id-1 label.sk-toggleable__label-arrow:before {content: \"▸\";float: left;margin-right: 0.25em;color: #696969;}#sk-container-id-1 label.sk-toggleable__label-arrow:hover:before {color: black;}#sk-container-id-1 div.sk-estimator:hover label.sk-toggleable__label-arrow:before {color: black;}#sk-container-id-1 div.sk-toggleable__content {max-height: 0;max-width: 0;overflow: hidden;text-align: left;background-color: #f0f8ff;}#sk-container-id-1 div.sk-toggleable__content pre {margin: 0.2em;color: black;border-radius: 0.25em;background-color: #f0f8ff;}#sk-container-id-1 input.sk-toggleable__control:checked~div.sk-toggleable__content {max-height: 200px;max-width: 100%;overflow: auto;}#sk-container-id-1 input.sk-toggleable__control:checked~label.sk-toggleable__label-arrow:before {content: \"▾\";}#sk-container-id-1 div.sk-estimator input.sk-toggleable__control:checked~label.sk-toggleable__label {background-color: #d4ebff;}#sk-container-id-1 div.sk-label input.sk-toggleable__control:checked~label.sk-toggleable__label {background-color: #d4ebff;}#sk-container-id-1 input.sk-hidden--visually {border: 0;clip: rect(1px 1px 1px 1px);clip: rect(1px, 1px, 1px, 1px);height: 1px;margin: -1px;overflow: hidden;padding: 0;position: absolute;width: 1px;}#sk-container-id-1 div.sk-estimator {font-family: monospace;background-color: #f0f8ff;border: 1px dotted black;border-radius: 0.25em;box-sizing: border-box;margin-bottom: 0.5em;}#sk-container-id-1 div.sk-estimator:hover {background-color: #d4ebff;}#sk-container-id-1 div.sk-parallel-item::after {content: \"\";width: 100%;border-bottom: 1px solid gray;flex-grow: 1;}#sk-container-id-1 div.sk-label:hover label.sk-toggleable__label {background-color: #d4ebff;}#sk-container-id-1 div.sk-serial::before {content: \"\";position: absolute;border-left: 1px solid gray;box-sizing: border-box;top: 0;bottom: 0;left: 50%;z-index: 0;}#sk-container-id-1 div.sk-serial {display: flex;flex-direction: column;align-items: center;background-color: white;padding-right: 0.2em;padding-left: 0.2em;position: relative;}#sk-container-id-1 div.sk-item {position: relative;z-index: 1;}#sk-container-id-1 div.sk-parallel {display: flex;align-items: stretch;justify-content: center;background-color: white;position: relative;}#sk-container-id-1 div.sk-item::before, #sk-container-id-1 div.sk-parallel-item::before {content: \"\";position: absolute;border-left: 1px solid gray;box-sizing: border-box;top: 0;bottom: 0;left: 50%;z-index: -1;}#sk-container-id-1 div.sk-parallel-item {display: flex;flex-direction: column;z-index: 1;position: relative;background-color: white;}#sk-container-id-1 div.sk-parallel-item:first-child::after {align-self: flex-end;width: 50%;}#sk-container-id-1 div.sk-parallel-item:last-child::after {align-self: flex-start;width: 50%;}#sk-container-id-1 div.sk-parallel-item:only-child::after {width: 0;}#sk-container-id-1 div.sk-dashed-wrapped {border: 1px dashed gray;margin: 0 0.4em 0.5em 0.4em;box-sizing: border-box;padding-bottom: 0.4em;background-color: white;}#sk-container-id-1 div.sk-label label {font-family: monospace;font-weight: bold;display: inline-block;line-height: 1.2em;}#sk-container-id-1 div.sk-label-container {text-align: center;}#sk-container-id-1 div.sk-container {/* jupyter's `normalize.less` sets `[hidden] { display: none; }` but bootstrap.min.css set `[hidden] { display: none !important; }` so we also need the `!important` here to be able to override the default hidden behavior on the sphinx rendered scikit-learn.org. See: https://github.com/scikit-learn/scikit-learn/issues/21755 */display: inline-block !important;position: relative;}#sk-container-id-1 div.sk-text-repr-fallback {display: none;}</style><div id=\"sk-container-id-1\" class=\"sk-top-container\"><div class=\"sk-text-repr-fallback\"><pre>LogisticRegression()</pre><b>In a Jupyter environment, please rerun this cell to show the HTML representation or trust the notebook. <br />On GitHub, the HTML representation is unable to render, please try loading this page with nbviewer.org.</b></div><div class=\"sk-container\" hidden><div class=\"sk-item\"><div class=\"sk-estimator sk-toggleable\"><input class=\"sk-toggleable__control sk-hidden--visually\" id=\"sk-estimator-id-1\" type=\"checkbox\" checked><label for=\"sk-estimator-id-1\" class=\"sk-toggleable__label sk-toggleable__label-arrow\">LogisticRegression</label><div class=\"sk-toggleable__content\"><pre>LogisticRegression()</pre></div></div></div></div></div>"
      ],
      "text/plain": [
       "LogisticRegression()"
      ]
     },
     "execution_count": 175,
     "metadata": {},
     "output_type": "execute_result"
    }
   ],
   "source": [
    "# Train a regression Classifier on labeled \n",
    "n_labeled = malicious_labled.shape[0]\n",
    "\n",
    "log_reg = LogisticRegression()\n",
    "log_reg.fit(X_train[:n_labeled], y_train[:n_labeled])"
   ]
  },
  {
   "cell_type": "code",
   "execution_count": null,
   "metadata": {},
   "outputs": [
    {
     "data": {
      "text/plain": [
       "0.918622848200313"
      ]
     },
     "execution_count": 176,
     "metadata": {},
     "output_type": "execute_result"
    }
   ],
   "source": [
    "# accuracy on labeled data only\n",
    "log_reg.score(X_test, y_test)"
   ]
  },
  {
   "cell_type": "code",
   "execution_count": null,
   "metadata": {},
   "outputs": [
    {
     "data": {
      "text/plain": [
       "['logistic_reg.sav']"
      ]
     },
     "execution_count": 185,
     "metadata": {},
     "output_type": "execute_result"
    }
   ],
   "source": [
    "\n",
    "\n",
    "# save the model \n",
    "logistic_model= 'logistic_reg.sav'\n",
    "joblib.dump(log_reg, logistic_model)"
   ]
  },
  {
   "attachments": {},
   "cell_type": "markdown",
   "metadata": {},
   "source": [
    "##### On Unlabled Data "
   ]
  },
  {
   "cell_type": "code",
   "execution_count": null,
   "metadata": {},
   "outputs": [],
   "source": [
    "# Convert data to numpy array\n",
    "X = malicious[['AS_num','attack_type','number_of_watchers','n_ips_by_AS']].to_numpy()\n",
    "y = np.array(malicious['malicious'])\n",
    "\n",
    "# Train Test Split \n",
    "\n",
    "X_train, X_test, y_train, y_test = train_test_split(X, y, test_size=0.20, random_state=42)\n",
    "\n",
    "\n",
    "\n",
    "# Feature Scaling\n",
    "scaler = StandardScaler()  \n",
    "\n",
    "X_train = scaler.fit_transform(X_train)\n",
    "X_test = scaler.transform(X_test)\n"
   ]
  },
  {
   "cell_type": "code",
   "execution_count": null,
   "metadata": {},
   "outputs": [
    {
     "name": "stderr",
     "output_type": "stream",
     "text": [
      "C:\\Users\\Samia\\AppData\\Local\\Packages\\PythonSoftwareFoundation.Python.3.10_qbz5n2kfra8p0\\LocalCache\\local-packages\\Python310\\site-packages\\sklearn\\cluster\\_kmeans.py:870: FutureWarning: The default value of `n_init` will change from 10 to 'auto' in 1.4. Set the value of `n_init` explicitly to suppress the warning\n",
      "  warnings.warn(\n"
     ]
    }
   ],
   "source": [
    "\n",
    "k = 2\n",
    "kmeans = KMeans(n_clusters=k)\n",
    "X_dist = kmeans.fit_transform(X_train)\n",
    "\n",
    "representative= np.argmin(X_dist, axis=0)\n",
    "X_representative = X_train[representative]"
   ]
  },
  {
   "cell_type": "code",
   "execution_count": null,
   "metadata": {},
   "outputs": [
    {
     "data": {
      "text/plain": [
       "array([[ 0.08807128, -0.14948741,  0.01639641, -0.49829989],\n",
       "       [-0.30762266,  0.48215983, -0.1477576 ,  1.35499333]])"
      ]
     },
     "execution_count": 179,
     "metadata": {},
     "output_type": "execute_result"
    }
   ],
   "source": [
    "X_representative"
   ]
  },
  {
   "cell_type": "code",
   "execution_count": null,
   "metadata": {},
   "outputs": [
    {
     "data": {
      "text/plain": [
       "array([[ 0.09035047, -0.19225483,  0.03776481, -0.48354523],\n",
       "       [-0.29960865,  0.6375308 , -0.12523082,  1.60347069]])"
      ]
     },
     "execution_count": 180,
     "metadata": {},
     "output_type": "execute_result"
    }
   ],
   "source": [
    "# cluster centers \n",
    "kmeans.cluster_centers_"
   ]
  },
  {
   "cell_type": "code",
   "execution_count": null,
   "metadata": {},
   "outputs": [
    {
     "data": {
      "text/plain": [
       "array([0, 1])"
      ]
     },
     "execution_count": 181,
     "metadata": {},
     "output_type": "execute_result"
    }
   ],
   "source": [
    "kmeans.labels_[np.argmin(X_dist, axis=0)]"
   ]
  },
  {
   "cell_type": "code",
   "execution_count": null,
   "metadata": {},
   "outputs": [
    {
     "data": {
      "text/plain": [
       "array([[ 0.08807128, -0.14948741,  0.01639641, -0.49829989],\n",
       "       [-0.30762266,  0.48215983, -0.1477576 ,  1.35499333]])"
      ]
     },
     "execution_count": 182,
     "metadata": {},
     "output_type": "execute_result"
    }
   ],
   "source": [
    "X_representative"
   ]
  },
  {
   "cell_type": "code",
   "execution_count": null,
   "metadata": {},
   "outputs": [],
   "source": [
    "\n",
    "\n",
    "# save the model \n",
    "Kmeans_model= 'svc_cv.sav'\n",
    "joblib.dump(kmeans, Kmeans_model)"
   ]
  },
  {
   "cell_type": "code",
   "execution_count": null,
   "metadata": {},
   "outputs": [
    {
     "name": "stdout",
     "output_type": "stream",
     "text": [
      "[[ 0.08807128 -0.14948741  0.01639641 -0.49829989]\n",
      " [-0.30762266  0.48215983 -0.1477576   1.35499333]]\n",
      "\n",
      " [0 1]\n"
     ]
    }
   ],
   "source": [
    "# Manual Labeling \n",
    "print(X_representative)\n",
    "y_representative = np.array([0, 1,]) \n",
    "print('\\n',y_representative)\n",
    "\n"
   ]
  },
  {
   "cell_type": "code",
   "execution_count": null,
   "metadata": {},
   "outputs": [],
   "source": [
    "# accuracy after first manual labeling \n",
    "log_reg = LogisticRegression()\n",
    "log_reg.fit(X_representative, y_representative)\n",
    "y_pred = log_reg.predict(X_test)\n",
    "\n"
   ]
  },
  {
   "attachments": {},
   "cell_type": "markdown",
   "metadata": {},
   "source": [
    "#### Prospects\n",
    "\n",
    "* Refactor code into functions\n",
    "* Refactor code into lower computational complexity\n",
    "* Experiment with several classifiers for both supervised and semi supervised techniques"
   ]
  },
  {
   "cell_type": "markdown",
   "metadata": {},
   "source": []
  }
 ],
 "metadata": {
  "kernelspec": {
   "display_name": "Python 3",
   "language": "python",
   "name": "python3"
  },
  "language_info": {
   "codemirror_mode": {
    "name": "ipython",
    "version": 3
   },
   "file_extension": ".py",
   "mimetype": "text/x-python",
   "name": "python",
   "nbconvert_exporter": "python",
   "pygments_lexer": "ipython3",
   "version": "3.10.11"
  },
  "orig_nbformat": 4,
  "vscode": {
   "interpreter": {
    "hash": "b7017eaa3a1146aa3353aaf1d457acd0d42a48245368b654c92322235b5e5999"
   }
  }
 },
 "nbformat": 4,
 "nbformat_minor": 2
}
