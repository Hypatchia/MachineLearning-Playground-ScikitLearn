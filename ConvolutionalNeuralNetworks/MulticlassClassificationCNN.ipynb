{
  "nbformat": 4,
  "nbformat_minor": 0,
  "metadata": {
    "colab": {
      "provenance": []
    },
    "kernelspec": {
      "name": "python3",
      "display_name": "Python 3"
    },
    "language_info": {
      "name": "python"
    },
    "accelerator": "GPU"
  },
  "cells": [
    {
      "cell_type": "code",
      "metadata": {
        "id": "m4qG2PpFcUw2"
      },
      "source": [
        "import tensorflow as tf"
      ],
      "execution_count": null,
      "outputs": []
    },
    {
      "cell_type": "code",
      "metadata": {
        "colab": {
          "base_uri": "https://localhost:8080/"
        },
        "id": "9eHFSfGrc042",
        "outputId": "1d36d590-8398-4ccd-bcf2-ff5297dfbe56"
      },
      "source": [
        "device=tf.test.gpu_device_name()\n",
        "if device != '/device:GPU:0':\n",
        "  raise SystemError('GPU device not found')\n",
        "print('Found GPU at: {}'.format(device))"
      ],
      "execution_count": null,
      "outputs": [
        {
          "output_type": "stream",
          "text": [
            "Found GPU at: /device:GPU:0\n"
          ],
          "name": "stdout"
        }
      ]
    },
    {
      "cell_type": "code",
      "metadata": {
        "id": "eeK8VYJgDtBB"
      },
      "source": [],
      "execution_count": null,
      "outputs": []
    },
    {
      "cell_type": "code",
      "metadata": {
        "id": "VqkTkzA-c0-f"
      },
      "source": [
        "import numpy as np\n",
        "import matplotlib.pyplot as plt\n",
        "from __future__ import print_function\n",
        "import keras\n",
        "from keras.models import Sequential\n",
        "from keras.layers import Dense,Conv2D, MaxPooling2D, Dropout, Flatten"
      ],
      "execution_count": null,
      "outputs": []
    },
    {
      "cell_type": "code",
      "metadata": {
        "colab": {
          "base_uri": "https://localhost:8080/"
        },
        "id": "WyOLaNLNc1Aw",
        "outputId": "73018b92-83d9-4cb5-e8ad-c8deb154ce6f"
      },
      "source": [
        "from keras.datasets import cifar10\n",
        "(train_images, train_labels), (test_images, test_labels) = cifar10.load_data()"
      ],
      "execution_count": null,
      "outputs": [
        {
          "output_type": "stream",
          "text": [
            "Downloading data from https://www.cs.toronto.edu/~kriz/cifar-10-python.tar.gz\n",
            "170500096/170498071 [==============================] - 4s 0us/step\n"
          ],
          "name": "stdout"
        }
      ]
    },
    {
      "cell_type": "code",
      "metadata": {
        "id": "paEZ4EiUc1DX"
      },
      "source": [
        "from keras.utils import to_categorical\n",
        "#Converts a class vector (integers) to binary class matrix"
      ],
      "execution_count": null,
      "outputs": []
    },
    {
      "cell_type": "code",
      "metadata": {
        "colab": {
          "base_uri": "https://localhost:8080/"
        },
        "id": "-5Tb4cu5c1GK",
        "outputId": "fc2b6e17-540f-4944-82d4-df89c77a9049"
      },
      "source": [
        "print('training data shape :',train_images.shape,train_labels.shape)"
      ],
      "execution_count": null,
      "outputs": [
        {
          "output_type": "stream",
          "text": [
            "training data shape : (50000, 32, 32, 3) (50000, 1)\n"
          ],
          "name": "stdout"
        }
      ]
    },
    {
      "cell_type": "code",
      "metadata": {
        "colab": {
          "base_uri": "https://localhost:8080/"
        },
        "id": "XKDqgSVbc1Im",
        "outputId": "17d4e3db-cd69-4927-b206-982880a9e749"
      },
      "source": [
        "# Find the unique numbers from the train labels\n",
        "classes= np.unique(train_labels)\n",
        "nClasses= len(classes)\n",
        "print('Total number of outputs : ', nClasses)\n",
        "print('Output classes : ', classes)"
      ],
      "execution_count": null,
      "outputs": [
        {
          "output_type": "stream",
          "text": [
            "Total number of outputs :  10\n",
            "Output classes :  [0 1 2 3 4 5 6 7 8 9]\n"
          ],
          "name": "stdout"
        }
      ]
    },
    {
      "cell_type": "code",
      "metadata": {
        "colab": {
          "base_uri": "https://localhost:8080/",
          "height": 335
        },
        "id": "Fuug6KgCc1K5",
        "outputId": "40db603c-1520-4a99-d387-21e3cdf37848"
      },
      "source": [
        "plt.figure(figsize=[10,10])\n",
        "# Display the first image in training data\n",
        "plt.subplot(121)\n",
        "plt.imshow(train_images[0,:,:],cmap='gray')\n",
        "plt.title(\"Ground Truth: {}\".format(train_labels[0]))\n",
        "# Display the first image in testing data\n",
        "plt.subplot(122)\n",
        "plt.imshow(test_images[0,:,:], cmap='gray')\n",
        "plt.title(\"Ground Truth : {}\".format(test_labels[0]))"
      ],
      "execution_count": null,
      "outputs": [
        {
          "output_type": "execute_result",
          "data": {
            "text/plain": [
              "Text(0.5, 1.0, 'Ground Truth : [3]')"
            ]
          },
          "metadata": {
            "tags": []
          },
          "execution_count": 9
        },
        {
          "output_type": "display_data",
          "data": {
            "image/png": "[encoded data removed]",
            "text/plain": [
              "<Figure size 720x720 with 2 Axes>"
            ]
          },
          "metadata": {
            "tags": [],
            "needs_background": "light"
          }
        }
      ]
    },
    {
      "cell_type": "code",
      "metadata": {
        "id": "Pd63sS1WkUZR"
      },
      "source": [
        "# Find the shape of input images and create the variable input_shape\n",
        "nRows,nCols,nDims = train_images.shape[1:]"
      ],
      "execution_count": null,
      "outputs": []
    },
    {
      "cell_type": "code",
      "metadata": {
        "colab": {
          "base_uri": "https://localhost:8080/"
        },
        "id": "kxlM7-I4vKm3",
        "outputId": "61ab1fc0-cf25-4df9-b56c-5f65d0369f0d"
      },
      "source": [
        "nRows"
      ],
      "execution_count": null,
      "outputs": [
        {
          "output_type": "execute_result",
          "data": {
            "text/plain": [
              "32"
            ]
          },
          "metadata": {
            "tags": []
          },
          "execution_count": 11
        }
      ]
    },
    {
      "cell_type": "code",
      "metadata": {
        "id": "4mQeduB5c1Nf"
      },
      "source": [
        "train_data = train_images.reshape(train_images.shape[0], nRows, nCols, nDims)"
      ],
      "execution_count": null,
      "outputs": []
    },
    {
      "cell_type": "code",
      "metadata": {
        "colab": {
          "base_uri": "https://localhost:8080/"
        },
        "id": "U6ai43Apc1QR",
        "outputId": "86e9a7e5-33af-4972-c986-1bbbca4a98d4"
      },
      "source": [
        "#Each row of the array stores a 32x32 colour image\n",
        "train_images.shape[0]"
      ],
      "execution_count": null,
      "outputs": [
        {
          "output_type": "execute_result",
          "data": {
            "text/plain": [
              "50000"
            ]
          },
          "metadata": {
            "tags": []
          },
          "execution_count": 13
        }
      ]
    },
    {
      "cell_type": "code",
      "metadata": {
        "colab": {
          "base_uri": "https://localhost:8080/"
        },
        "id": "Jmn3ZTVcc1Ti",
        "outputId": "99f46b68-9587-4eba-8311-d4e0095c14ed"
      },
      "source": [
        "np.shape(train_images)"
      ],
      "execution_count": null,
      "outputs": [
        {
          "output_type": "execute_result",
          "data": {
            "text/plain": [
              "(50000, 32, 32, 3)"
            ]
          },
          "metadata": {
            "tags": []
          },
          "execution_count": 14
        }
      ]
    },
    {
      "cell_type": "code",
      "metadata": {
        "id": "dWpkewknvtTa"
      },
      "source": [
        "# Find the shape of input images and create the variable input_shape\n",
        "nRows,nCols,nDims = train_images.shape[1:]\n",
        "train_data = train_images.reshape(train_images.shape[0], nRows, nCols, nDims)\n",
        "test_data = test_images.reshape(test_images.shape[0], nRows, nCols, nDims)\n",
        "input_shape = (nRows, nCols, nDims)"
      ],
      "execution_count": null,
      "outputs": []
    },
    {
      "cell_type": "code",
      "metadata": {
        "id": "2ASNQinWvtV4"
      },
      "source": [
        "# Change to float datatype\n",
        "train_data = train_data.astype('float32')\n",
        "test_data = test_data.astype('float32')"
      ],
      "execution_count": null,
      "outputs": []
    },
    {
      "cell_type": "code",
      "metadata": {
        "id": "ufgnncMHvtY1"
      },
      "source": [
        "# Scale the data to lie between 0 to 1\n",
        "train_data /= 255\n",
        "test_data /= 255"
      ],
      "execution_count": null,
      "outputs": []
    },
    {
      "cell_type": "code",
      "metadata": {
        "id": "qnC1ikIYvtb9"
      },
      "source": [
        "# Change the labels from integer to categorical data\n",
        "train_labels_one_hot = to_categorical(train_labels)\n",
        "test_labels_one_hot = to_categorical(test_labels)"
      ],
      "execution_count": null,
      "outputs": []
    },
    {
      "cell_type": "code",
      "metadata": {
        "colab": {
          "base_uri": "https://localhost:8080/"
        },
        "id": "g8sGCvAzwE9c",
        "outputId": "6cb3155d-b1e1-4e75-8b42-eff702da96e2"
      },
      "source": [
        "train_labels_one_hot"
      ],
      "execution_count": null,
      "outputs": [
        {
          "output_type": "execute_result",
          "data": {
            "text/plain": [
              "array([[0., 0., 0., ..., 0., 0., 0.],\n",
              "       [0., 0., 0., ..., 0., 0., 1.],\n",
              "       [0., 0., 0., ..., 0., 0., 1.],\n",
              "       ...,\n",
              "       [0., 0., 0., ..., 0., 0., 1.],\n",
              "       [0., 1., 0., ..., 0., 0., 0.],\n",
              "       [0., 1., 0., ..., 0., 0., 0.]], dtype=float32)"
            ]
          },
          "metadata": {
            "tags": []
          },
          "execution_count": 19
        }
      ]
    },
    {
      "cell_type": "code",
      "metadata": {
        "colab": {
          "base_uri": "https://localhost:8080/"
        },
        "id": "ZN4922XjwE_x",
        "outputId": "b7e8f376-d8e5-4c15-9f3e-d646d7ba5aa0"
      },
      "source": [
        "# Display the change for category label using one-hot encoding\n",
        "print('Original label 0 : ', train_labels[0:10])\n",
        "print('After conversion to categorical ( one-hot ) : ', train_labels_one_hot[0:10])"
      ],
      "execution_count": null,
      "outputs": [
        {
          "output_type": "stream",
          "text": [
            "Original label 0 :  [[6]\n",
            " [9]\n",
            " [9]\n",
            " [4]\n",
            " [1]\n",
            " [1]\n",
            " [2]\n",
            " [7]\n",
            " [8]\n",
            " [3]]\n",
            "After conversion to categorical ( one-hot ) :  [[0. 0. 0. 0. 0. 0. 1. 0. 0. 0.]\n",
            " [0. 0. 0. 0. 0. 0. 0. 0. 0. 1.]\n",
            " [0. 0. 0. 0. 0. 0. 0. 0. 0. 1.]\n",
            " [0. 0. 0. 0. 1. 0. 0. 0. 0. 0.]\n",
            " [0. 1. 0. 0. 0. 0. 0. 0. 0. 0.]\n",
            " [0. 1. 0. 0. 0. 0. 0. 0. 0. 0.]\n",
            " [0. 0. 1. 0. 0. 0. 0. 0. 0. 0.]\n",
            " [0. 0. 0. 0. 0. 0. 0. 1. 0. 0.]\n",
            " [0. 0. 0. 0. 0. 0. 0. 0. 1. 0.]\n",
            " [0. 0. 0. 1. 0. 0. 0. 0. 0. 0.]]\n"
          ],
          "name": "stdout"
        }
      ]
    },
    {
      "cell_type": "code",
      "metadata": {
        "id": "Fj-o-PY8wFDI"
      },
      "source": [
        "def createModel():\n",
        "    #A Sequential model is appropriate for a plain stack\n",
        "    #of layers where each layer has exactly one input tensor\n",
        "    #and one output tensor.\n",
        "    #A Sequential model is not appropriate when:\n",
        "    \"\"\"Your model has multiple inputs or multiple outputs\n",
        "    Any of your layers has multiple inputs or multiple outputs\n",
        "    You need to do layer sharing\n",
        "    You want non-linear topology\"\"\"\n",
        "    model = Sequential()\n",
        "    \"\"\"You can create a Sequential model by passing\n",
        "    a list of layers to the Sequential constructor:\"\"\"\n",
        "    #create a Sequential model incrementally via the add() method:\n",
        "    # The first two layers with 32 filters of window size 3x3\n",
        "    \"\"\"When you instantiate a Sequential model without an input\n",
        "    shape, it isn't \"built\": it has no weights\n",
        "    (and calling model.weights results in an error\n",
        "     stating just this). The weights are created when the model\n",
        "      first sees some input data:\"\"\"\n",
        "\n",
        "    #model.add(keras.Input(shape=(4,))) #specify shape of input\n",
        "    \"\"\"Conv2D : create a convolution kernel\n",
        "    KERNEL :An image processing Kernel is a CONVOLUTION MATRIX (masks)\n",
        "    which can be used for blurring,sharpening,embossing,edge detection...\n",
        "    and this by doing convolution between a kernel and an image\n",
        "    \"\"\"\n",
        "    model.add(Conv2D(32, (3, 3), padding='same', activation='relu', input_shape=input_shape))\n",
        "    model.add(Conv2D(32, (3, 3), activation='relu'))\n",
        "    \"\"\"Pooling : involves sliding a two-dimensional filter\n",
        "    over each channel of feature map and summarising\n",
        "     the features lying within the region covered by\n",
        "      the filter\"\"\"\n",
        "    model.add(MaxPooling2D(pool_size=(2, 2)))\n",
        "    model.add(Dropout(0.25))\n",
        "\n",
        "    model.add(Conv2D(64, (3, 3), padding='same', activation='relu'))\n",
        "    model.add(Conv2D(64, (3, 3), activation='relu'))\n",
        "    model.add(MaxPooling2D(pool_size=(2, 2)))\n",
        "    model.add(Dropout(0.25))\n",
        "\n",
        "    model.add(Conv2D(64, (3, 3), padding='same', activation='relu'))\n",
        "    model.add(Conv2D(64, (3, 3), activation='relu'))\n",
        "    model.add(MaxPooling2D(pool_size=(2, 2)))\n",
        "    model.add(Dropout(0.25))\n",
        "\n",
        "    model.add(Flatten())\n",
        "    model.add(Dense(512, activation='relu'))\n",
        "    model.add(Dropout(0.5))\n",
        "    model.add(Dense(nClasses, activation='softmax'))\n",
        "\n",
        "    return model"
      ],
      "execution_count": null,
      "outputs": []
    },
    {
      "cell_type": "code",
      "metadata": {
        "colab": {
          "base_uri": "https://localhost:8080/"
        },
        "id": "r6KiUVHqNERw",
        "outputId": "45a52b05-b516-4307-88c6-c796f62dcf32"
      },
      "source": [
        "model1 = createModel()\n",
        "print(len(model1.layers))\n",
        "print(model1.layers)\n",
        "print(model1.summary)"
      ],
      "execution_count": null,
      "outputs": [
        {
          "output_type": "stream",
          "text": [
            "16\n",
            "[<tensorflow.python.keras.layers.convolutional.Conv2D object at 0x7f9da008f8d0>, <tensorflow.python.keras.layers.convolutional.Conv2D object at 0x7f9da01a4310>, <tensorflow.python.keras.layers.pooling.MaxPooling2D object at 0x7f9d640e7c50>, <tensorflow.python.keras.layers.core.Dropout object at 0x7f9d640e7a50>, <tensorflow.python.keras.layers.convolutional.Conv2D object at 0x7f9da007f410>, <tensorflow.python.keras.layers.convolutional.Conv2D object at 0x7f9d640ad790>, <tensorflow.python.keras.layers.pooling.MaxPooling2D object at 0x7f9d640e7990>, <tensorflow.python.keras.layers.core.Dropout object at 0x7f9db05250d0>, <tensorflow.python.keras.layers.convolutional.Conv2D object at 0x7f9db056af90>, <tensorflow.python.keras.layers.convolutional.Conv2D object at 0x7f9db0544890>, <tensorflow.python.keras.layers.pooling.MaxPooling2D object at 0x7f9db05aef50>, <tensorflow.python.keras.layers.core.Dropout object at 0x7f9db05b4410>, <tensorflow.python.keras.layers.core.Flatten object at 0x7f9db05710d0>, <tensorflow.python.keras.layers.core.Dense object at 0x7f9d6404c450>, <tensorflow.python.keras.layers.core.Dropout object at 0x7f9db0572210>, <tensorflow.python.keras.layers.core.Dense object at 0x7f9db6d1d9d0>]\n",
            "<bound method Model.summary of <tensorflow.python.keras.engine.sequential.Sequential object at 0x7f9da01a45d0>>\n"
          ],
          "name": "stdout"
        }
      ]
    },
    {
      "cell_type": "code",
      "metadata": {
        "id": "fsVlQLuzOTIQ"
      },
      "source": [],
      "execution_count": null,
      "outputs": []
    },
    {
      "cell_type": "code",
      "metadata": {
        "colab": {
          "base_uri": "https://localhost:8080/"
        },
        "id": "aQQ2-0f2HWYc",
        "outputId": "063bd7dd-7cf6-4034-9a1d-5d320378a60a"
      },
      "source": [
        "batch_size = 256\n",
        "epochs = 50\n",
        "\"\"\"To train a model with fit(), you need to specify a loss function,\n",
        " an optimizer, and optionally, some metrics to monitor.\"\"\"\n",
        "model1.compile(optimizer='rmsprop', loss='categorical_crossentropy', metrics=['accuracy'])\n",
        "\n",
        "\n",
        "#Batch size is a term used in machine learning and refers\n",
        "#to the number of training examples utilized in one iteration\n",
        "history = model1.fit(train_data, train_labels_one_hot, batch_size=batch_size, epochs=epochs, verbose=1,\n",
        "                   validation_data=(test_data, test_labels_one_hot))\n",
        "model1.evaluate(test_data, test_labels_one_hot)"
      ],
      "execution_count": null,
      "outputs": [
        {
          "output_type": "stream",
          "text": [
            "Epoch 1/50\n",
            "196/196 [==============================] - 38s 24ms/step - loss: 2.2084 - accuracy: 0.1689 - val_loss: 1.9448 - val_accuracy: 0.2923\n",
            "Epoch 2/50\n",
            "196/196 [==============================] - 4s 20ms/step - loss: 1.7656 - accuracy: 0.3561 - val_loss: 1.5175 - val_accuracy: 0.4524\n",
            "Epoch 3/50\n",
            "196/196 [==============================] - 4s 20ms/step - loss: 1.5403 - accuracy: 0.4408 - val_loss: 1.4710 - val_accuracy: 0.4621\n",
            "Epoch 4/50\n",
            "196/196 [==============================] - 4s 20ms/step - loss: 1.3913 - accuracy: 0.4990 - val_loss: 1.2825 - val_accuracy: 0.5470\n",
            "Epoch 5/50\n",
            "196/196 [==============================] - 4s 20ms/step - loss: 1.2875 - accuracy: 0.5417 - val_loss: 1.1955 - val_accuracy: 0.5709\n",
            "Epoch 6/50\n",
            "196/196 [==============================] - 4s 20ms/step - loss: 1.1961 - accuracy: 0.5742 - val_loss: 1.0879 - val_accuracy: 0.6150\n",
            "Epoch 7/50\n",
            "196/196 [==============================] - 4s 21ms/step - loss: 1.1211 - accuracy: 0.6055 - val_loss: 1.0944 - val_accuracy: 0.6152\n",
            "Epoch 8/50\n",
            "196/196 [==============================] - 4s 20ms/step - loss: 1.0586 - accuracy: 0.6245 - val_loss: 1.0016 - val_accuracy: 0.6525\n",
            "Epoch 9/50\n",
            "196/196 [==============================] - 4s 20ms/step - loss: 0.9963 - accuracy: 0.6481 - val_loss: 0.9592 - val_accuracy: 0.6560\n",
            "Epoch 10/50\n",
            "196/196 [==============================] - 4s 20ms/step - loss: 0.9535 - accuracy: 0.6640 - val_loss: 0.8890 - val_accuracy: 0.6874\n",
            "Epoch 11/50\n",
            "196/196 [==============================] - 4s 21ms/step - loss: 0.9047 - accuracy: 0.6818 - val_loss: 0.8684 - val_accuracy: 0.6957\n",
            "Epoch 12/50\n",
            "196/196 [==============================] - 4s 20ms/step - loss: 0.8823 - accuracy: 0.6903 - val_loss: 0.9967 - val_accuracy: 0.6530\n",
            "Epoch 13/50\n",
            "196/196 [==============================] - 4s 20ms/step - loss: 0.8405 - accuracy: 0.7055 - val_loss: 0.8075 - val_accuracy: 0.7124\n",
            "Epoch 14/50\n",
            "196/196 [==============================] - 4s 21ms/step - loss: 0.8063 - accuracy: 0.7175 - val_loss: 0.7841 - val_accuracy: 0.7247\n",
            "Epoch 15/50\n",
            "196/196 [==============================] - 4s 21ms/step - loss: 0.7871 - accuracy: 0.7277 - val_loss: 0.8037 - val_accuracy: 0.7201\n",
            "Epoch 16/50\n",
            "196/196 [==============================] - 4s 21ms/step - loss: 0.7507 - accuracy: 0.7357 - val_loss: 0.7497 - val_accuracy: 0.7402\n",
            "Epoch 17/50\n",
            "196/196 [==============================] - 4s 21ms/step - loss: 0.7337 - accuracy: 0.7437 - val_loss: 0.7682 - val_accuracy: 0.7292\n",
            "Epoch 18/50\n",
            "196/196 [==============================] - 4s 21ms/step - loss: 0.7185 - accuracy: 0.7514 - val_loss: 0.6831 - val_accuracy: 0.7673\n",
            "Epoch 19/50\n",
            "196/196 [==============================] - 4s 21ms/step - loss: 0.6807 - accuracy: 0.7636 - val_loss: 0.9006 - val_accuracy: 0.7045\n",
            "Epoch 20/50\n",
            "196/196 [==============================] - 4s 21ms/step - loss: 0.6730 - accuracy: 0.7672 - val_loss: 0.7044 - val_accuracy: 0.7575\n",
            "Epoch 21/50\n",
            "196/196 [==============================] - 4s 21ms/step - loss: 0.6591 - accuracy: 0.7709 - val_loss: 0.7695 - val_accuracy: 0.7433\n",
            "Epoch 22/50\n",
            "196/196 [==============================] - 4s 21ms/step - loss: 0.6483 - accuracy: 0.7745 - val_loss: 0.9037 - val_accuracy: 0.7088\n",
            "Epoch 23/50\n",
            "196/196 [==============================] - 4s 21ms/step - loss: 0.6283 - accuracy: 0.7805 - val_loss: 0.7171 - val_accuracy: 0.7588\n",
            "Epoch 24/50\n",
            "196/196 [==============================] - 4s 21ms/step - loss: 0.6229 - accuracy: 0.7841 - val_loss: 0.7948 - val_accuracy: 0.7289\n",
            "Epoch 25/50\n",
            "196/196 [==============================] - 4s 21ms/step - loss: 0.6149 - accuracy: 0.7857 - val_loss: 0.7398 - val_accuracy: 0.7613\n",
            "Epoch 26/50\n",
            "196/196 [==============================] - 4s 21ms/step - loss: 0.6079 - accuracy: 0.7898 - val_loss: 0.6798 - val_accuracy: 0.7704\n",
            "Epoch 27/50\n",
            "196/196 [==============================] - 4s 21ms/step - loss: 0.5862 - accuracy: 0.7985 - val_loss: 0.7172 - val_accuracy: 0.7643\n",
            "Epoch 28/50\n",
            "196/196 [==============================] - 4s 21ms/step - loss: 0.5859 - accuracy: 0.7977 - val_loss: 0.7470 - val_accuracy: 0.7521\n",
            "Epoch 29/50\n",
            "196/196 [==============================] - 4s 21ms/step - loss: 0.5693 - accuracy: 0.8021 - val_loss: 0.9093 - val_accuracy: 0.7171\n",
            "Epoch 30/50\n",
            "196/196 [==============================] - 4s 21ms/step - loss: 0.5643 - accuracy: 0.8026 - val_loss: 0.6130 - val_accuracy: 0.7983\n",
            "Epoch 31/50\n",
            "196/196 [==============================] - 4s 21ms/step - loss: 0.5521 - accuracy: 0.8096 - val_loss: 0.6559 - val_accuracy: 0.7776\n",
            "Epoch 32/50\n",
            "196/196 [==============================] - 4s 21ms/step - loss: 0.5357 - accuracy: 0.8133 - val_loss: 0.7167 - val_accuracy: 0.7758\n",
            "Epoch 33/50\n",
            "196/196 [==============================] - 4s 20ms/step - loss: 0.5322 - accuracy: 0.8139 - val_loss: 0.6328 - val_accuracy: 0.7935\n",
            "Epoch 34/50\n",
            "196/196 [==============================] - 4s 21ms/step - loss: 0.5279 - accuracy: 0.8176 - val_loss: 0.6363 - val_accuracy: 0.7921\n",
            "Epoch 35/50\n",
            "196/196 [==============================] - 4s 21ms/step - loss: 0.5236 - accuracy: 0.8183 - val_loss: 0.8085 - val_accuracy: 0.7519\n",
            "Epoch 36/50\n",
            "196/196 [==============================] - 4s 21ms/step - loss: 0.5200 - accuracy: 0.8208 - val_loss: 0.6916 - val_accuracy: 0.7820\n",
            "Epoch 37/50\n",
            "196/196 [==============================] - 4s 21ms/step - loss: 0.5173 - accuracy: 0.8213 - val_loss: 0.6720 - val_accuracy: 0.7752\n",
            "Epoch 38/50\n",
            "196/196 [==============================] - 4s 21ms/step - loss: 0.5123 - accuracy: 0.8246 - val_loss: 0.6077 - val_accuracy: 0.8070\n",
            "Epoch 39/50\n",
            "196/196 [==============================] - 4s 21ms/step - loss: 0.5032 - accuracy: 0.8286 - val_loss: 0.6422 - val_accuracy: 0.7929\n",
            "Epoch 40/50\n",
            "196/196 [==============================] - 4s 21ms/step - loss: 0.5014 - accuracy: 0.8257 - val_loss: 0.6241 - val_accuracy: 0.8005\n",
            "Epoch 41/50\n",
            "196/196 [==============================] - 4s 21ms/step - loss: 0.5045 - accuracy: 0.8270 - val_loss: 0.5900 - val_accuracy: 0.8052\n",
            "Epoch 42/50\n",
            "196/196 [==============================] - 4s 21ms/step - loss: 0.5062 - accuracy: 0.8293 - val_loss: 0.6203 - val_accuracy: 0.8014\n",
            "Epoch 43/50\n",
            "196/196 [==============================] - 4s 21ms/step - loss: 0.4862 - accuracy: 0.8309 - val_loss: 0.6846 - val_accuracy: 0.7804\n",
            "Epoch 44/50\n",
            "196/196 [==============================] - 4s 21ms/step - loss: 0.4937 - accuracy: 0.8309 - val_loss: 0.5956 - val_accuracy: 0.8098\n",
            "Epoch 45/50\n",
            "196/196 [==============================] - 4s 21ms/step - loss: 0.4832 - accuracy: 0.8317 - val_loss: 0.6278 - val_accuracy: 0.7994\n",
            "Epoch 46/50\n",
            "196/196 [==============================] - 4s 21ms/step - loss: 0.4820 - accuracy: 0.8337 - val_loss: 0.6556 - val_accuracy: 0.7911\n",
            "Epoch 47/50\n",
            "196/196 [==============================] - 4s 21ms/step - loss: 0.4829 - accuracy: 0.8348 - val_loss: 0.6771 - val_accuracy: 0.7861\n",
            "Epoch 48/50\n",
            "196/196 [==============================] - 4s 21ms/step - loss: 0.4748 - accuracy: 0.8366 - val_loss: 0.7569 - val_accuracy: 0.7714\n",
            "Epoch 49/50\n",
            "196/196 [==============================] - 4s 21ms/step - loss: 0.4808 - accuracy: 0.8368 - val_loss: 0.5925 - val_accuracy: 0.8084\n",
            "Epoch 50/50\n",
            "196/196 [==============================] - 4s 21ms/step - loss: 0.4616 - accuracy: 0.8407 - val_loss: 0.5802 - val_accuracy: 0.8097\n",
            "313/313 [==============================] - 1s 3ms/step - loss: 0.5802 - accuracy: 0.8097\n"
          ],
          "name": "stdout"
        },
        {
          "output_type": "execute_result",
          "data": {
            "text/plain": [
              "[0.5802321434020996, 0.8097000122070312]"
            ]
          },
          "metadata": {
            "tags": []
          },
          "execution_count": 23
        }
      ]
    },
    {
      "cell_type": "code",
      "metadata": {
        "colab": {
          "base_uri": "https://localhost:8080/"
        },
        "id": "zfqjz6k9pHAb",
        "outputId": "cce5e12d-3b71-4f56-b9c1-d475c555b602"
      },
      "source": [
        "model1.summary()"
      ],
      "execution_count": null,
      "outputs": [
        {
          "output_type": "stream",
          "text": [
            "Model: \"sequential\"\n",
            "_________________________________________________________________\n",
            "Layer (type)                 Output Shape              Param #   \n",
            "=================================================================\n",
            "conv2d (Conv2D)              (None, 32, 32, 32)        896       \n",
            "_________________________________________________________________\n",
            "conv2d_1 (Conv2D)            (None, 30, 30, 32)        9248      \n",
            "_________________________________________________________________\n",
            "max_pooling2d (MaxPooling2D) (None, 15, 15, 32)        0         \n",
            "_________________________________________________________________\n",
            "dropout (Dropout)            (None, 15, 15, 32)        0         \n",
            "_________________________________________________________________\n",
            "conv2d_2 (Conv2D)            (None, 15, 15, 64)        18496     \n",
            "_________________________________________________________________\n",
            "conv2d_3 (Conv2D)            (None, 13, 13, 64)        36928     \n",
            "_________________________________________________________________\n",
            "max_pooling2d_1 (MaxPooling2 (None, 6, 6, 64)          0         \n",
            "_________________________________________________________________\n",
            "dropout_1 (Dropout)          (None, 6, 6, 64)          0         \n",
            "_________________________________________________________________\n",
            "conv2d_4 (Conv2D)            (None, 6, 6, 64)          36928     \n",
            "_________________________________________________________________\n",
            "conv2d_5 (Conv2D)            (None, 4, 4, 64)          36928     \n",
            "_________________________________________________________________\n",
            "max_pooling2d_2 (MaxPooling2 (None, 2, 2, 64)          0         \n",
            "_________________________________________________________________\n",
            "dropout_2 (Dropout)          (None, 2, 2, 64)          0         \n",
            "_________________________________________________________________\n",
            "flatten (Flatten)            (None, 256)               0         \n",
            "_________________________________________________________________\n",
            "dense (Dense)                (None, 512)               131584    \n",
            "_________________________________________________________________\n",
            "dropout_3 (Dropout)          (None, 512)               0         \n",
            "_________________________________________________________________\n",
            "dense_1 (Dense)              (None, 10)                5130      \n",
            "=================================================================\n",
            "Total params: 276,138\n",
            "Trainable params: 276,138\n",
            "Non-trainable params: 0\n",
            "_________________________________________________________________\n"
          ],
          "name": "stdout"
        }
      ]
    },
    {
      "cell_type": "code",
      "metadata": {
        "colab": {
          "base_uri": "https://localhost:8080/",
          "height": 429
        },
        "id": "jd0UwSplHWa5",
        "outputId": "dca61ccb-e0cd-4009-a595-7c6173e44537"
      },
      "source": [
        "plt.figure(figsize=[8,6])\n",
        "plt.plot(history.history['loss'],'r',linewidth=3.0)\n",
        "plt.plot(history.history['val_loss'],'b',linewidth=3.0)\n",
        "plt.legend(['Training loss', 'Validation Loss'],fontsize=18)\n",
        "plt.xlabel('Epochs ',fontsize=16)\n",
        "plt.ylabel('Loss',fontsize=16)\n",
        "plt.title('Loss Curves',fontsize=16)"
      ],
      "execution_count": null,
      "outputs": [
        {
          "output_type": "execute_result",
          "data": {
            "text/plain": [
              "Text(0.5, 1.0, 'Loss Curves')"
            ]
          },
          "metadata": {
            "tags": []
          },
          "execution_count": 25
        },
        {
          "output_type": "display_data",
          "data": {
            "image/png": "[encoded data removed]",
            "text/plain": [
              "<Figure size 576x432 with 1 Axes>"
            ]
          },
          "metadata": {
            "tags": [],
            "needs_background": "light"
          }
        }
      ]
    },
    {
      "cell_type": "code",
      "metadata": {
        "colab": {
          "base_uri": "https://localhost:8080/",
          "height": 429
        },
        "id": "LSehVtuuHWda",
        "outputId": "a6fce7b6-73ce-4420-f147-124fa59418c4"
      },
      "source": [
        "plt.figure(figsize=[8,6])\n",
        "plt.plot(history.history['accuracy'],'r',linewidth=3.0)\n",
        "plt.plot(history.history['val_accuracy'],'b',linewidth=3.0)\n",
        "plt.legend(['Training Accuracy', 'Validation Accuracy'],fontsize=18)\n",
        "plt.xlabel('Epochs ',fontsize=16)\n",
        "plt.ylabel('Accuracy',fontsize=16)\n",
        "plt.title('Accuracy Curves',fontsize=16)"
      ],
      "execution_count": null,
      "outputs": [
        {
          "output_type": "execute_result",
          "data": {
            "text/plain": [
              "Text(0.5, 1.0, 'Accuracy Curves')"
            ]
          },
          "metadata": {
            "tags": []
          },
          "execution_count": 26
        },
        {
          "output_type": "display_data",
          "data": {
            "image/png": "[encoded data removed]",
            "text/plain": [
              "<Figure size 576x432 with 1 Axes>"
            ]
          },
          "metadata": {
            "tags": [],
            "needs_background": "light"
          }
        }
      ]
    },
    {
      "cell_type": "code",
      "metadata": {
        "id": "0DHU06tFJI0H"
      },
      "source": [],
      "execution_count": null,
      "outputs": []
    },
    {
      "cell_type": "code",
      "metadata": {
        "id": "m6td_XLMJI3g"
      },
      "source": [],
      "execution_count": null,
      "outputs": []
    }
  ]
}